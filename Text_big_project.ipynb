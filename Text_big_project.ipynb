{
 "cells": [
  {
   "cell_type": "markdown",
   "id": "4197923e",
   "metadata": {
    "id": "k435Psgdexbb"
   },
   "source": [
    "# Big project activity"
   ]
  },
  {
   "cell_type": "markdown",
   "id": "k435Psgdexbb",
   "metadata": {
    "id": "k435Psgdexbb"
   },
   "source": [
    "## Optimal charging station location"
   ]
  },
  {
   "cell_type": "markdown",
   "id": "71e8cba3",
   "metadata": {
    "id": "71e8cba3"
   },
   "source": [
    "### 1.Introduction\n",
    "\n",
    "Consider a long linear cycle path as Vento, or the Danube cycle path. The cycle path usually runs along the banks of a river with scarce tourist interest. However, from the main course of the cycle path, it is possible to reach places of tourist interest in making small detours.  \n",
    "\n",
    "The rapid growth of e-bike ridership is proposing the problem of deploying a suitable charging infrastructure. The charging stations should be placed in strategic positions so as to guarantee a coverage of the whole cycle path. However, since the charging operations require a non-negligible time, the charging station should be positioned in places where alternative activities could be carried out, as restaurants, museums, swimming pool, or other amenities. Moreover, the presence of a charging station could also induce e-cyclists to discover new places and generate positive externalities.\n",
    "\n"
   ]
  },
  {
   "cell_type": "markdown",
   "id": "F5J-AOngfJfC",
   "metadata": {
    "id": "F5J-AOngfJfC"
   },
   "source": [
    "### 2.Decision problem\n",
    "We can represent the cycle path as a graph where the set of nodes $H = \\{1,\\ldots, n\\}$ corresponds to the tourist sites that may host a charging station.\n",
    "In addition, we are given the distances between touristic sites ($d_{ij},$ with $ i,j =1,\\ldots,n$). Let $c_i$ be the cost of installing a charging station in site $i, i=1\\ldots, n$.\n",
    "\n",
    "\n",
    "The problem is, given a budget $b$, determine the subset of sites $S\\subseteq H$ where to install the charging stations so that the total cost is not higher than $b$ and the maximum distance between consecutive charging stations is minimized.\n",
    "Consider that the cyclist has to visit all the touristic destinations in a consecutive way.\n",
    "\n"
   ]
  },
  {
   "cell_type": "markdown",
   "id": "6f1SzgfSfXlb",
   "metadata": {
    "id": "6f1SzgfSfXlb"
   },
   "source": [
    "### 3.Problem characteristics\n",
    "There are 2 csv files that contain the information of the cycle way, they are essential to build the equivalent graph:\n",
    "\n",
    "\n",
    "*    in the \"nodes.csv\" file, there are all the destinations that the cyclist can reach, with their spatial coordinates and the value of installation costs related to that destination. Consider that the \"tourist-dest-id\" is not the graph node number, but it is a unique id to identify the destination.\n",
    "*   in the \"OD.csv\" you can find all the arcs between two different nodes, keep attention that the condition of visiting consecutive touristic destination must be respected.\n",
    "\n",
    "The set of nodes $N$ is defined by $\\{0,1,\\ldots,n, n+1\\}$.  The Arcs $A$ correspond to the portion of cycle path between two consecutive charging stations. We assume that potentially e-riders will visit all sites along the way, making the suitable deviations and going back to the main path at the initial point of the detour.\n",
    "The cost associated with each arc $(i,j)$ is given by $c_j$, thus the cost of installing a charging station in $j$. These costs are defined for all arcs in $A$, while they are set to 0 for all the arcs that arrive in the last node.\n",
    "The path starts in node $s = 0$ and ends in node $t = n+1$, these two nodes are connected to the nearest touristic site with an arc of null length.\n",
    "\n",
    "### 4.Example of a linear path with deviation\n",
    "![picture](https://drive.google.com/uc?export=view&id=1w16bHtbu0FGGL-UntxeqxD7244D3eHbJ)"
   ]
  },
  {
   "cell_type": "markdown",
   "id": "C3mv0MBqf-7F",
   "metadata": {
    "id": "C3mv0MBqf-7F"
   },
   "source": [
    "### 5.Requirements\n",
    "The requirements of the problem are:\n",
    "\n",
    "\n",
    "*   the maximum running time of the algorithm must be 5 minutes, so set the proper timer\n",
    "*   create the equivalent graph and display it on a xy-plot\n",
    "*   find the solution for the basic scenario, with a mip model, displaying the solution with a xy-plot, the budget constraint is $b = 10000\\ € $.\n",
    "*   Find the optimal solution for 5 different values of budget in the range $[10000, 100000]$. Select the values of the budget so as to have different charger locations.\n",
    "\n",
    "  You have to motivate your choice and the solution you get. They can also be not common solution if they are well motivated. To support your decision and explanations, you can print plots or tables. You can also compare different scenarios.\n",
    "\n",
    "\n",
    "   \n",
    "If you have some doubts related to the parametric analysis, prof. Cubillos uploaded a notebook with the solution on WeBeeP and you can have a look there."
   ]
  },
  {
   "cell_type": "markdown",
   "id": "83391c72",
   "metadata": {},
   "source": [
    "### Insert student name and student ID\n",
    "\n",
    "student1:\n",
    "\n",
    "ID1:\n",
    "\n",
    "student2:\n",
    "\n",
    "ID2:\n",
    "\n",
    "student3\n",
    "\n",
    "ID3:\n",
    "\n"
   ]
  },
  {
   "cell_type": "code",
   "execution_count": 1,
   "id": "1Wtgd9v5j6QG",
   "metadata": {
    "id": "1Wtgd9v5j6QG",
    "ExecuteTime": {
     "end_time": "2024-01-25T15:32:40.974729590Z",
     "start_time": "2024-01-25T15:32:36.771551538Z"
    }
   },
   "outputs": [
    {
     "name": "stdout",
     "output_type": "stream",
     "text": [
      "Requirement already satisfied: mip in ./.venv/lib/python3.11/site-packages (1.15.0)\r\n",
      "Requirement already satisfied: cffi==1.15.* in ./.venv/lib/python3.11/site-packages (from mip) (1.15.0)\r\n",
      "Requirement already satisfied: pycparser in ./.venv/lib/python3.11/site-packages (from cffi==1.15.*->mip) (2.21)\r\n",
      "Requirement already satisfied: cffi==1.15.0 in ./.venv/lib/python3.11/site-packages (1.15.0)\r\n",
      "Requirement already satisfied: pycparser in ./.venv/lib/python3.11/site-packages (from cffi==1.15.0) (2.21)\r\n"
     ]
    }
   ],
   "source": [
    "#install libraries\n",
    "!pip install mip\n",
    "!pip install --upgrade cffi==1.15.0"
   ]
  },
  {
   "cell_type": "code",
   "execution_count": 2,
   "id": "6ac6b084",
   "metadata": {
    "id": "6ac6b084",
    "ExecuteTime": {
     "end_time": "2024-01-25T15:32:41.788271964Z",
     "start_time": "2024-01-25T15:32:40.978789747Z"
    }
   },
   "outputs": [
    {
     "name": "stderr",
     "output_type": "stream",
     "text": [
      "/tmp/ipykernel_228814/1401400862.py:9: DeprecationWarning: \n",
      "Pyarrow will become a required dependency of pandas in the next major release of pandas (pandas 3.0),\n",
      "(to allow more performant data types, such as the Arrow string type, and better interoperability with other libraries)\n",
      "but was not found to be installed on your system.\n",
      "If this would cause problems for you,\n",
      "please provide us feedback at https://github.com/pandas-dev/pandas/issues/54466\n",
      "        \n",
      "  import pandas as pd\n"
     ]
    }
   ],
   "source": [
    "#import libraries\n",
    "import importlib\n",
    "import cffi\n",
    "\n",
    "importlib.reload(cffi)\n",
    "import numpy as np\n",
    "import networkx as nx\n",
    "import matplotlib.pyplot as plt\n",
    "import pandas as pd\n",
    "import time\n",
    "import random"
   ]
  },
  {
   "cell_type": "code",
   "execution_count": 3,
   "id": "Sy8XNds0ieqh",
   "metadata": {
    "id": "Sy8XNds0ieqh",
    "ExecuteTime": {
     "end_time": "2024-01-25T15:32:41.791735990Z",
     "start_time": "2024-01-25T15:32:41.786604558Z"
    }
   },
   "outputs": [
    {
     "name": "stdout",
     "output_type": "stream",
     "text": [
      "Budget: 10,000.00 €\n"
     ]
    }
   ],
   "source": [
    "# set the budget\n",
    "budget: int = 10_000\n",
    "# budget = random.randint(10000, 100000)\n",
    "print(f\"Budget: {budget:,.2f} €\")"
   ]
  },
  {
   "cell_type": "code",
   "outputs": [
    {
     "name": "stdout",
     "output_type": "stream",
     "text": [
      "Number of candidate touristic sites: 44\n",
      "Number of Nodes (including source and sink): 46\n",
      "Number of arcs: 1936\n",
      "Node ID Mapping: {0: 0, 17: 1, 18: 2, 20: 3, 21: 4, 23: 5, 24: 6, 25: 7, 29: 8, 30: 9, 31: 10, 32: 11, 33: 12, 35: 13, 36: 14, 38: 15, 39: 16, 40: 17, 41: 18, 48: 19, 52: 20, 53: 21, 54: 22, 57: 23, 58: 24, 60: 25, 61: 26, 62: 27, 63: 28, 64: 29, 66: 30, 67: 31, 68: 32, 69: 33, 77: 34, 82: 35, 83: 36, 84: 37, 85: 38, 86: 39, 87: 40, 88: 41, 89: 42, 90: 43}\n"
     ]
    }
   ],
   "source": [
    "# Load nodes data from CSV\n",
    "nodes_data: pd.DataFrame = pd.read_csv('nodes.csv')\n",
    "\n",
    "# Display information about candidate touristic sites and nodes\n",
    "num_nodes: int = len(nodes_data) + 2\n",
    "print(f\"Number of candidate touristic sites: {len(nodes_data)}\")\n",
    "print(f\"Number of Nodes (including source and sink): {num_nodes}\")\n",
    "\n",
    "# Load OD data from CSV and map node IDs\n",
    "od_data: pd.DataFrame = pd.read_csv('OD.csv')\n",
    "node_id_mapping: dict[int, int] = {node_id: i for i, node_id in enumerate(nodes_data['tourist_dest_id'])}\n",
    "od_data[['origin_id', 'destination_id']] = od_data[['origin_id', 'destination_id']].apply(\n",
    "    lambda x: x.map(node_id_mapping))\n",
    "\n",
    "# Map node IDs in nodes_data\n",
    "nodes_data['tourist_dest_id'] = nodes_data['tourist_dest_id'].map(node_id_mapping)\n",
    "\n",
    "# Display the number of arcs and the node ID mapping\n",
    "print(f\"Number of arcs: {len(od_data)}\")\n",
    "print(f\"Node ID Mapping: {node_id_mapping}\")\n"
   ],
   "metadata": {
    "collapsed": false,
    "ExecuteTime": {
     "end_time": "2024-01-25T15:32:41.872011847Z",
     "start_time": "2024-01-25T15:32:41.792352534Z"
    }
   },
   "id": "641a79b333603a4b",
   "execution_count": 4
  },
  {
   "cell_type": "code",
   "execution_count": 5,
   "id": "0e713cd9",
   "metadata": {
    "ExecuteTime": {
     "end_time": "2024-01-25T15:32:42.323442113Z",
     "start_time": "2024-01-25T15:32:41.873781629Z"
    }
   },
   "outputs": [
    {
     "data": {
      "text/plain": "<branca.element.Figure at 0x7fdd8492c210>",
      "text/html": "<iframe srcdoc=\"&lt;!DOCTYPE html&gt;\n&lt;html&gt;\n&lt;head&gt;\n    \n    &lt;meta http-equiv=&quot;content-type&quot; content=&quot;text/html; charset=UTF-8&quot; /&gt;\n    \n        &lt;script&gt;\n            L_NO_TOUCH = false;\n            L_DISABLE_3D = false;\n        &lt;/script&gt;\n    \n    &lt;style&gt;html, body {width: 100%;height: 100%;margin: 0;padding: 0;}&lt;/style&gt;\n    &lt;style&gt;#map {position:absolute;top:0;bottom:0;right:0;left:0;}&lt;/style&gt;\n    &lt;script src=&quot;https://cdn.jsdelivr.net/npm/leaflet@1.9.3/dist/leaflet.js&quot;&gt;&lt;/script&gt;\n    &lt;script src=&quot;https://code.jquery.com/jquery-3.7.1.min.js&quot;&gt;&lt;/script&gt;\n    &lt;script src=&quot;https://cdn.jsdelivr.net/npm/bootstrap@5.2.2/dist/js/bootstrap.bundle.min.js&quot;&gt;&lt;/script&gt;\n    &lt;script src=&quot;https://cdnjs.cloudflare.com/ajax/libs/Leaflet.awesome-markers/2.0.2/leaflet.awesome-markers.js&quot;&gt;&lt;/script&gt;\n    &lt;link rel=&quot;stylesheet&quot; href=&quot;https://cdn.jsdelivr.net/npm/leaflet@1.9.3/dist/leaflet.css&quot;/&gt;\n    &lt;link rel=&quot;stylesheet&quot; href=&quot;https://cdn.jsdelivr.net/npm/bootstrap@5.2.2/dist/css/bootstrap.min.css&quot;/&gt;\n    &lt;link rel=&quot;stylesheet&quot; href=&quot;https://netdna.bootstrapcdn.com/bootstrap/3.0.0/css/bootstrap.min.css&quot;/&gt;\n    &lt;link rel=&quot;stylesheet&quot; href=&quot;https://cdn.jsdelivr.net/npm/@fortawesome/fontawesome-free@6.2.0/css/all.min.css&quot;/&gt;\n    &lt;link rel=&quot;stylesheet&quot; href=&quot;https://cdnjs.cloudflare.com/ajax/libs/Leaflet.awesome-markers/2.0.2/leaflet.awesome-markers.css&quot;/&gt;\n    &lt;link rel=&quot;stylesheet&quot; href=&quot;https://cdn.jsdelivr.net/gh/python-visualization/folium/folium/templates/leaflet.awesome.rotate.min.css&quot;/&gt;\n    \n            &lt;meta name=&quot;viewport&quot; content=&quot;width=device-width,\n                initial-scale=1.0, maximum-scale=1.0, user-scalable=no&quot; /&gt;\n            &lt;style&gt;\n                #map_7710a2a49b8583785614c7008b29ce0b {\n                    position: relative;\n                    width: 100.0%;\n                    height: 100.0%;\n                    left: 0.0%;\n                    top: 0.0%;\n                }\n                .leaflet-container { font-size: 1rem; }\n            &lt;/style&gt;\n        \n&lt;/head&gt;\n&lt;body&gt;\n    \n    \n            &lt;div class=&quot;folium-map&quot; id=&quot;map_7710a2a49b8583785614c7008b29ce0b&quot; &gt;&lt;/div&gt;\n        \n&lt;/body&gt;\n&lt;script&gt;\n    \n    \n            var map_7710a2a49b8583785614c7008b29ce0b = L.map(\n                &quot;map_7710a2a49b8583785614c7008b29ce0b&quot;,\n                {\n                    center: [44.92803444, 10.52108953],\n                    crs: L.CRS.EPSG3857,\n                    zoom: 10,\n                    zoomControl: true,\n                    preferCanvas: false,\n                }\n            );\n\n            \n\n        \n    \n            var tile_layer_443a58d7de90e29ab05bd8571ce9ed68 = L.tileLayer(\n                &quot;https://tile.openstreetmap.org/{z}/{x}/{y}.png&quot;,\n                {&quot;attribution&quot;: &quot;\\u0026copy; \\u003ca href=\\&quot;https://www.openstreetmap.org/copyright\\&quot;\\u003eOpenStreetMap\\u003c/a\\u003e contributors&quot;, &quot;detectRetina&quot;: false, &quot;maxNativeZoom&quot;: 19, &quot;maxZoom&quot;: 19, &quot;minZoom&quot;: 0, &quot;noWrap&quot;: false, &quot;opacity&quot;: 1, &quot;subdomains&quot;: &quot;abc&quot;, &quot;tms&quot;: false}\n            );\n        \n    \n            tile_layer_443a58d7de90e29ab05bd8571ce9ed68.addTo(map_7710a2a49b8583785614c7008b29ce0b);\n        \n    \n            var circle_marker_02211686acec04625335e6ea0f543134 = L.circleMarker(\n                [45.05268459, 9.69307653],\n                {&quot;bubblingMouseEvents&quot;: true, &quot;color&quot;: &quot;blue&quot;, &quot;dashArray&quot;: null, &quot;dashOffset&quot;: null, &quot;fill&quot;: true, &quot;fillColor&quot;: &quot;blue&quot;, &quot;fillOpacity&quot;: 0.7, &quot;fillRule&quot;: &quot;evenodd&quot;, &quot;lineCap&quot;: &quot;round&quot;, &quot;lineJoin&quot;: &quot;round&quot;, &quot;opacity&quot;: 1.0, &quot;radius&quot;: 5, &quot;stroke&quot;: true, &quot;weight&quot;: 3}\n            ).addTo(map_7710a2a49b8583785614c7008b29ce0b);\n        \n    \n        var popup_6fb7504c379fc3bdd7be5c65a505e175 = L.popup({&quot;maxWidth&quot;: &quot;100%&quot;});\n\n        \n            \n                var html_9b7e348948ec7a7cad999481aead7a66 = $(`&lt;div id=&quot;html_9b7e348948ec7a7cad999481aead7a66&quot; style=&quot;width: 100.0%; height: 100.0%;&quot;&gt;Piacenza - Piazza dei Cavalli&lt;/div&gt;`)[0];\n                popup_6fb7504c379fc3bdd7be5c65a505e175.setContent(html_9b7e348948ec7a7cad999481aead7a66);\n            \n        \n\n        circle_marker_02211686acec04625335e6ea0f543134.bindPopup(popup_6fb7504c379fc3bdd7be5c65a505e175)\n        ;\n\n        \n    \n    \n            circle_marker_02211686acec04625335e6ea0f543134.bindTooltip(\n                `&lt;div&gt;\n                     0\n                 &lt;/div&gt;`,\n                {&quot;sticky&quot;: true}\n            );\n        \n    \n            var circle_marker_a51eb30cb471a601b74c73964f3fdc51 = L.circleMarker(\n                [45.13344776, 10.02481327],\n                {&quot;bubblingMouseEvents&quot;: true, &quot;color&quot;: &quot;blue&quot;, &quot;dashArray&quot;: null, &quot;dashOffset&quot;: null, &quot;fill&quot;: true, &quot;fillColor&quot;: &quot;blue&quot;, &quot;fillOpacity&quot;: 0.7, &quot;fillRule&quot;: &quot;evenodd&quot;, &quot;lineCap&quot;: &quot;round&quot;, &quot;lineJoin&quot;: &quot;round&quot;, &quot;opacity&quot;: 1.0, &quot;radius&quot;: 5, &quot;stroke&quot;: true, &quot;weight&quot;: 3}\n            ).addTo(map_7710a2a49b8583785614c7008b29ce0b);\n        \n    \n        var popup_43e3ef37bee4fa3a95ed9d66fbce3f22 = L.popup({&quot;maxWidth&quot;: &quot;100%&quot;});\n\n        \n            \n                var html_9611de3ba07b6fdb78d13dab2e1d59c5 = $(`&lt;div id=&quot;html_9611de3ba07b6fdb78d13dab2e1d59c5&quot; style=&quot;width: 100.0%; height: 100.0%;&quot;&gt;Cremona - Piazza Duomo&lt;/div&gt;`)[0];\n                popup_43e3ef37bee4fa3a95ed9d66fbce3f22.setContent(html_9611de3ba07b6fdb78d13dab2e1d59c5);\n            \n        \n\n        circle_marker_a51eb30cb471a601b74c73964f3fdc51.bindPopup(popup_43e3ef37bee4fa3a95ed9d66fbce3f22)\n        ;\n\n        \n    \n    \n            circle_marker_a51eb30cb471a601b74c73964f3fdc51.bindTooltip(\n                `&lt;div&gt;\n                     1\n                 &lt;/div&gt;`,\n                {&quot;sticky&quot;: true}\n            );\n        \n    \n            var circle_marker_1154a878957778d4238d13eccecbd10e = L.circleMarker(\n                [45.10545147, 10.04038403],\n                {&quot;bubblingMouseEvents&quot;: true, &quot;color&quot;: &quot;blue&quot;, &quot;dashArray&quot;: null, &quot;dashOffset&quot;: null, &quot;fill&quot;: true, &quot;fillColor&quot;: &quot;blue&quot;, &quot;fillOpacity&quot;: 0.7, &quot;fillRule&quot;: &quot;evenodd&quot;, &quot;lineCap&quot;: &quot;round&quot;, &quot;lineJoin&quot;: &quot;round&quot;, &quot;opacity&quot;: 1.0, &quot;radius&quot;: 5, &quot;stroke&quot;: true, &quot;weight&quot;: 3}\n            ).addTo(map_7710a2a49b8583785614c7008b29ce0b);\n        \n    \n        var popup_c2ef143771a46f43bd36bd5eede80796 = L.popup({&quot;maxWidth&quot;: &quot;100%&quot;});\n\n        \n            \n                var html_65a187cdd990252a1b28a9b5d4a86739 = $(`&lt;div id=&quot;html_65a187cdd990252a1b28a9b5d4a86739&quot; style=&quot;width: 100.0%; height: 100.0%;&quot;&gt;Gerre de&#x27; Caprioli - Piazza del Comune&lt;/div&gt;`)[0];\n                popup_c2ef143771a46f43bd36bd5eede80796.setContent(html_65a187cdd990252a1b28a9b5d4a86739);\n            \n        \n\n        circle_marker_1154a878957778d4238d13eccecbd10e.bindPopup(popup_c2ef143771a46f43bd36bd5eede80796)\n        ;\n\n        \n    \n    \n            circle_marker_1154a878957778d4238d13eccecbd10e.bindTooltip(\n                `&lt;div&gt;\n                     2\n                 &lt;/div&gt;`,\n                {&quot;sticky&quot;: true}\n            );\n        \n    \n            var circle_marker_bb686abce47ed6b3d2e023a397d7f36c = L.circleMarker(\n                [45.07305077, 10.08791941],\n                {&quot;bubblingMouseEvents&quot;: true, &quot;color&quot;: &quot;blue&quot;, &quot;dashArray&quot;: null, &quot;dashOffset&quot;: null, &quot;fill&quot;: true, &quot;fillColor&quot;: &quot;blue&quot;, &quot;fillOpacity&quot;: 0.7, &quot;fillRule&quot;: &quot;evenodd&quot;, &quot;lineCap&quot;: &quot;round&quot;, &quot;lineJoin&quot;: &quot;round&quot;, &quot;opacity&quot;: 1.0, &quot;radius&quot;: 5, &quot;stroke&quot;: true, &quot;weight&quot;: 3}\n            ).addTo(map_7710a2a49b8583785614c7008b29ce0b);\n        \n    \n        var popup_0c7130e484219aa3da87642eb67c8cf9 = L.popup({&quot;maxWidth&quot;: &quot;100%&quot;});\n\n        \n            \n                var html_e4598c6202eeb84ee5d845e08a48e4b8 = $(`&lt;div id=&quot;html_e4598c6202eeb84ee5d845e08a48e4b8&quot; style=&quot;width: 100.0%; height: 100.0%;&quot;&gt;Stagno Lombardo - Piazza Roma&lt;/div&gt;`)[0];\n                popup_0c7130e484219aa3da87642eb67c8cf9.setContent(html_e4598c6202eeb84ee5d845e08a48e4b8);\n            \n        \n\n        circle_marker_bb686abce47ed6b3d2e023a397d7f36c.bindPopup(popup_0c7130e484219aa3da87642eb67c8cf9)\n        ;\n\n        \n    \n    \n            circle_marker_bb686abce47ed6b3d2e023a397d7f36c.bindTooltip(\n                `&lt;div&gt;\n                     3\n                 &lt;/div&gt;`,\n                {&quot;sticky&quot;: true}\n            );\n        \n    \n            var circle_marker_bc9d40e103776db29dccc0f0e8e48588 = L.circleMarker(\n                [45.07168037, 10.13564596],\n                {&quot;bubblingMouseEvents&quot;: true, &quot;color&quot;: &quot;blue&quot;, &quot;dashArray&quot;: null, &quot;dashOffset&quot;: null, &quot;fill&quot;: true, &quot;fillColor&quot;: &quot;blue&quot;, &quot;fillOpacity&quot;: 0.7, &quot;fillRule&quot;: &quot;evenodd&quot;, &quot;lineCap&quot;: &quot;round&quot;, &quot;lineJoin&quot;: &quot;round&quot;, &quot;opacity&quot;: 1.0, &quot;radius&quot;: 5, &quot;stroke&quot;: true, &quot;weight&quot;: 3}\n            ).addTo(map_7710a2a49b8583785614c7008b29ce0b);\n        \n    \n        var popup_782145f7e61412617afaea85ef17cd05 = L.popup({&quot;maxWidth&quot;: &quot;100%&quot;});\n\n        \n            \n                var html_01003860f355e15575b8f74df4c2c135 = $(`&lt;div id=&quot;html_01003860f355e15575b8f74df4c2c135&quot; style=&quot;width: 100.0%; height: 100.0%;&quot;&gt;Pieve d&#x27;Olmi&lt;/div&gt;`)[0];\n                popup_782145f7e61412617afaea85ef17cd05.setContent(html_01003860f355e15575b8f74df4c2c135);\n            \n        \n\n        circle_marker_bc9d40e103776db29dccc0f0e8e48588.bindPopup(popup_782145f7e61412617afaea85ef17cd05)\n        ;\n\n        \n    \n    \n            circle_marker_bc9d40e103776db29dccc0f0e8e48588.bindTooltip(\n                `&lt;div&gt;\n                     4\n                 &lt;/div&gt;`,\n                {&quot;sticky&quot;: true}\n            );\n        \n    \n            var circle_marker_e61fcfafb94e4fd9a71e74c9e59ac8d5 = L.circleMarker(\n                [45.06564274, 10.1788444],\n                {&quot;bubblingMouseEvents&quot;: true, &quot;color&quot;: &quot;blue&quot;, &quot;dashArray&quot;: null, &quot;dashOffset&quot;: null, &quot;fill&quot;: true, &quot;fillColor&quot;: &quot;blue&quot;, &quot;fillOpacity&quot;: 0.7, &quot;fillRule&quot;: &quot;evenodd&quot;, &quot;lineCap&quot;: &quot;round&quot;, &quot;lineJoin&quot;: &quot;round&quot;, &quot;opacity&quot;: 1.0, &quot;radius&quot;: 5, &quot;stroke&quot;: true, &quot;weight&quot;: 3}\n            ).addTo(map_7710a2a49b8583785614c7008b29ce0b);\n        \n    \n        var popup_afdeab50d4700a9dbafc3b1e0b84c472 = L.popup({&quot;maxWidth&quot;: &quot;100%&quot;});\n\n        \n            \n                var html_e2002de50542d6f93391c050f3821fd8 = $(`&lt;div id=&quot;html_e2002de50542d6f93391c050f3821fd8&quot; style=&quot;width: 100.0%; height: 100.0%;&quot;&gt;San Daniele Po&lt;/div&gt;`)[0];\n                popup_afdeab50d4700a9dbafc3b1e0b84c472.setContent(html_e2002de50542d6f93391c050f3821fd8);\n            \n        \n\n        circle_marker_e61fcfafb94e4fd9a71e74c9e59ac8d5.bindPopup(popup_afdeab50d4700a9dbafc3b1e0b84c472)\n        ;\n\n        \n    \n    \n            circle_marker_e61fcfafb94e4fd9a71e74c9e59ac8d5.bindTooltip(\n                `&lt;div&gt;\n                     5\n                 &lt;/div&gt;`,\n                {&quot;sticky&quot;: true}\n            );\n        \n    \n            var circle_marker_080ee1066b56fca0f180c8e678fec270 = L.circleMarker(\n                [45.05433645, 10.25976605],\n                {&quot;bubblingMouseEvents&quot;: true, &quot;color&quot;: &quot;blue&quot;, &quot;dashArray&quot;: null, &quot;dashOffset&quot;: null, &quot;fill&quot;: true, &quot;fillColor&quot;: &quot;blue&quot;, &quot;fillOpacity&quot;: 0.7, &quot;fillRule&quot;: &quot;evenodd&quot;, &quot;lineCap&quot;: &quot;round&quot;, &quot;lineJoin&quot;: &quot;round&quot;, &quot;opacity&quot;: 1.0, &quot;radius&quot;: 5, &quot;stroke&quot;: true, &quot;weight&quot;: 3}\n            ).addTo(map_7710a2a49b8583785614c7008b29ce0b);\n        \n    \n        var popup_def6c64a2333106de426b8ae343ff9ab = L.popup({&quot;maxWidth&quot;: &quot;100%&quot;});\n\n        \n            \n                var html_5b5c9e7143ec8ca6088378032d349766 = $(`&lt;div id=&quot;html_5b5c9e7143ec8ca6088378032d349766&quot; style=&quot;width: 100.0%; height: 100.0%;&quot;&gt;Motta Baluffi - Piazza Gaboardi&lt;/div&gt;`)[0];\n                popup_def6c64a2333106de426b8ae343ff9ab.setContent(html_5b5c9e7143ec8ca6088378032d349766);\n            \n        \n\n        circle_marker_080ee1066b56fca0f180c8e678fec270.bindPopup(popup_def6c64a2333106de426b8ae343ff9ab)\n        ;\n\n        \n    \n    \n            circle_marker_080ee1066b56fca0f180c8e678fec270.bindTooltip(\n                `&lt;div&gt;\n                     6\n                 &lt;/div&gt;`,\n                {&quot;sticky&quot;: true}\n            );\n        \n    \n            var circle_marker_060628968b57fc516d80c414ad47050d = L.circleMarker(\n                [45.01896682, 10.29449607],\n                {&quot;bubblingMouseEvents&quot;: true, &quot;color&quot;: &quot;blue&quot;, &quot;dashArray&quot;: null, &quot;dashOffset&quot;: null, &quot;fill&quot;: true, &quot;fillColor&quot;: &quot;blue&quot;, &quot;fillOpacity&quot;: 0.7, &quot;fillRule&quot;: &quot;evenodd&quot;, &quot;lineCap&quot;: &quot;round&quot;, &quot;lineJoin&quot;: &quot;round&quot;, &quot;opacity&quot;: 1.0, &quot;radius&quot;: 5, &quot;stroke&quot;: true, &quot;weight&quot;: 3}\n            ).addTo(map_7710a2a49b8583785614c7008b29ce0b);\n        \n    \n        var popup_99202d0822270782b648d0665fe9b9f5 = L.popup({&quot;maxWidth&quot;: &quot;100%&quot;});\n\n        \n            \n                var html_3e5520d81ecb3f3aab65c234106f823c = $(`&lt;div id=&quot;html_3e5520d81ecb3f3aab65c234106f823c&quot; style=&quot;width: 100.0%; height: 100.0%;&quot;&gt;Torricella del Pizzo&lt;/div&gt;`)[0];\n                popup_99202d0822270782b648d0665fe9b9f5.setContent(html_3e5520d81ecb3f3aab65c234106f823c);\n            \n        \n\n        circle_marker_060628968b57fc516d80c414ad47050d.bindPopup(popup_99202d0822270782b648d0665fe9b9f5)\n        ;\n\n        \n    \n    \n            circle_marker_060628968b57fc516d80c414ad47050d.bindTooltip(\n                `&lt;div&gt;\n                     7\n                 &lt;/div&gt;`,\n                {&quot;sticky&quot;: true}\n            );\n        \n    \n            var circle_marker_b111ad99a44d7a001c1bae1b7f805521 = L.circleMarker(\n                [45.00993777, 10.35079999],\n                {&quot;bubblingMouseEvents&quot;: true, &quot;color&quot;: &quot;blue&quot;, &quot;dashArray&quot;: null, &quot;dashOffset&quot;: null, &quot;fill&quot;: true, &quot;fillColor&quot;: &quot;blue&quot;, &quot;fillOpacity&quot;: 0.7, &quot;fillRule&quot;: &quot;evenodd&quot;, &quot;lineCap&quot;: &quot;round&quot;, &quot;lineJoin&quot;: &quot;round&quot;, &quot;opacity&quot;: 1.0, &quot;radius&quot;: 5, &quot;stroke&quot;: true, &quot;weight&quot;: 3}\n            ).addTo(map_7710a2a49b8583785614c7008b29ce0b);\n        \n    \n        var popup_41ea57b0cc95ab0bbe2db284bdeeb8b6 = L.popup({&quot;maxWidth&quot;: &quot;100%&quot;});\n\n        \n            \n                var html_4201e560bcf424fdcbfbb3c5412c67a0 = $(`&lt;div id=&quot;html_4201e560bcf424fdcbfbb3c5412c67a0&quot; style=&quot;width: 100.0%; height: 100.0%;&quot;&gt;Gussola&lt;/div&gt;`)[0];\n                popup_41ea57b0cc95ab0bbe2db284bdeeb8b6.setContent(html_4201e560bcf424fdcbfbb3c5412c67a0);\n            \n        \n\n        circle_marker_b111ad99a44d7a001c1bae1b7f805521.bindPopup(popup_41ea57b0cc95ab0bbe2db284bdeeb8b6)\n        ;\n\n        \n    \n    \n            circle_marker_b111ad99a44d7a001c1bae1b7f805521.bindTooltip(\n                `&lt;div&gt;\n                     8\n                 &lt;/div&gt;`,\n                {&quot;sticky&quot;: true}\n            );\n        \n    \n            var circle_marker_5e77789f19642e1183433a8b4bacc5e4 = L.circleMarker(\n                [45.0107632, 10.3790171],\n                {&quot;bubblingMouseEvents&quot;: true, &quot;color&quot;: &quot;blue&quot;, &quot;dashArray&quot;: null, &quot;dashOffset&quot;: null, &quot;fill&quot;: true, &quot;fillColor&quot;: &quot;blue&quot;, &quot;fillOpacity&quot;: 0.7, &quot;fillRule&quot;: &quot;evenodd&quot;, &quot;lineCap&quot;: &quot;round&quot;, &quot;lineJoin&quot;: &quot;round&quot;, &quot;opacity&quot;: 1.0, &quot;radius&quot;: 5, &quot;stroke&quot;: true, &quot;weight&quot;: 3}\n            ).addTo(map_7710a2a49b8583785614c7008b29ce0b);\n        \n    \n        var popup_08c139c731b47ed786a8fd394ca7b782 = L.popup({&quot;maxWidth&quot;: &quot;100%&quot;});\n\n        \n            \n                var html_051185a943f842ae8a46c0974c785802 = $(`&lt;div id=&quot;html_051185a943f842ae8a46c0974c785802&quot; style=&quot;width: 100.0%; height: 100.0%;&quot;&gt;Martignana di Po&lt;/div&gt;`)[0];\n                popup_08c139c731b47ed786a8fd394ca7b782.setContent(html_051185a943f842ae8a46c0974c785802);\n            \n        \n\n        circle_marker_5e77789f19642e1183433a8b4bacc5e4.bindPopup(popup_08c139c731b47ed786a8fd394ca7b782)\n        ;\n\n        \n    \n    \n            circle_marker_5e77789f19642e1183433a8b4bacc5e4.bindTooltip(\n                `&lt;div&gt;\n                     9\n                 &lt;/div&gt;`,\n                {&quot;sticky&quot;: true}\n            );\n        \n    \n            var circle_marker_af08aa142d1fc5f9fe11e014fa1c534d = L.circleMarker(\n                [45.00314595, 10.41345546],\n                {&quot;bubblingMouseEvents&quot;: true, &quot;color&quot;: &quot;blue&quot;, &quot;dashArray&quot;: null, &quot;dashOffset&quot;: null, &quot;fill&quot;: true, &quot;fillColor&quot;: &quot;blue&quot;, &quot;fillOpacity&quot;: 0.7, &quot;fillRule&quot;: &quot;evenodd&quot;, &quot;lineCap&quot;: &quot;round&quot;, &quot;lineJoin&quot;: &quot;round&quot;, &quot;opacity&quot;: 1.0, &quot;radius&quot;: 5, &quot;stroke&quot;: true, &quot;weight&quot;: 3}\n            ).addTo(map_7710a2a49b8583785614c7008b29ce0b);\n        \n    \n        var popup_f335449be388841a5cc45cc8b98337ab = L.popup({&quot;maxWidth&quot;: &quot;100%&quot;});\n\n        \n            \n                var html_c9794f30efad292eba079e8ef5969d69 = $(`&lt;div id=&quot;html_c9794f30efad292eba079e8ef5969d69&quot; style=&quot;width: 100.0%; height: 100.0%;&quot;&gt;Casalmaggiore&lt;/div&gt;`)[0];\n                popup_f335449be388841a5cc45cc8b98337ab.setContent(html_c9794f30efad292eba079e8ef5969d69);\n            \n        \n\n        circle_marker_af08aa142d1fc5f9fe11e014fa1c534d.bindPopup(popup_f335449be388841a5cc45cc8b98337ab)\n        ;\n\n        \n    \n    \n            circle_marker_af08aa142d1fc5f9fe11e014fa1c534d.bindTooltip(\n                `&lt;div&gt;\n                     10\n                 &lt;/div&gt;`,\n                {&quot;sticky&quot;: true}\n            );\n        \n    \n            var circle_marker_6dcbfa29e461d13fb583d731caf67c4b = L.circleMarker(\n                [45.01081793, 10.42545864],\n                {&quot;bubblingMouseEvents&quot;: true, &quot;color&quot;: &quot;blue&quot;, &quot;dashArray&quot;: null, &quot;dashOffset&quot;: null, &quot;fill&quot;: true, &quot;fillColor&quot;: &quot;blue&quot;, &quot;fillOpacity&quot;: 0.7, &quot;fillRule&quot;: &quot;evenodd&quot;, &quot;lineCap&quot;: &quot;round&quot;, &quot;lineJoin&quot;: &quot;round&quot;, &quot;opacity&quot;: 1.0, &quot;radius&quot;: 5, &quot;stroke&quot;: true, &quot;weight&quot;: 3}\n            ).addTo(map_7710a2a49b8583785614c7008b29ce0b);\n        \n    \n        var popup_c144487a19aac641b9b20734580025a8 = L.popup({&quot;maxWidth&quot;: &quot;100%&quot;});\n\n        \n            \n                var html_1b8a27d9629ef52345159f0fdc5a0d89 = $(`&lt;div id=&quot;html_1b8a27d9629ef52345159f0fdc5a0d89&quot; style=&quot;width: 100.0%; height: 100.0%;&quot;&gt;Casalmaggiore&lt;/div&gt;`)[0];\n                popup_c144487a19aac641b9b20734580025a8.setContent(html_1b8a27d9629ef52345159f0fdc5a0d89);\n            \n        \n\n        circle_marker_6dcbfa29e461d13fb583d731caf67c4b.bindPopup(popup_c144487a19aac641b9b20734580025a8)\n        ;\n\n        \n    \n    \n            circle_marker_6dcbfa29e461d13fb583d731caf67c4b.bindTooltip(\n                `&lt;div&gt;\n                     11\n                 &lt;/div&gt;`,\n                {&quot;sticky&quot;: true}\n            );\n        \n    \n            var circle_marker_0bceaebe5c03a2a0ae3e68676be7c1a8 = L.circleMarker(\n                [44.98638632, 10.41526891],\n                {&quot;bubblingMouseEvents&quot;: true, &quot;color&quot;: &quot;blue&quot;, &quot;dashArray&quot;: null, &quot;dashOffset&quot;: null, &quot;fill&quot;: true, &quot;fillColor&quot;: &quot;blue&quot;, &quot;fillOpacity&quot;: 0.7, &quot;fillRule&quot;: &quot;evenodd&quot;, &quot;lineCap&quot;: &quot;round&quot;, &quot;lineJoin&quot;: &quot;round&quot;, &quot;opacity&quot;: 1.0, &quot;radius&quot;: 5, &quot;stroke&quot;: true, &quot;weight&quot;: 3}\n            ).addTo(map_7710a2a49b8583785614c7008b29ce0b);\n        \n    \n        var popup_15c1ff8dc7dbec512dd64aae8678fb97 = L.popup({&quot;maxWidth&quot;: &quot;100%&quot;});\n\n        \n            \n                var html_97ed74f46b52fb30d2c589a754cd80ba = $(`&lt;div id=&quot;html_97ed74f46b52fb30d2c589a754cd80ba&quot; style=&quot;width: 100.0%; height: 100.0%;&quot;&gt;Casalmaggiore - Piazza Garibaldi&lt;/div&gt;`)[0];\n                popup_15c1ff8dc7dbec512dd64aae8678fb97.setContent(html_97ed74f46b52fb30d2c589a754cd80ba);\n            \n        \n\n        circle_marker_0bceaebe5c03a2a0ae3e68676be7c1a8.bindPopup(popup_15c1ff8dc7dbec512dd64aae8678fb97)\n        ;\n\n        \n    \n    \n            circle_marker_0bceaebe5c03a2a0ae3e68676be7c1a8.bindTooltip(\n                `&lt;div&gt;\n                     12\n                 &lt;/div&gt;`,\n                {&quot;sticky&quot;: true}\n            );\n        \n    \n            var circle_marker_a4d26ebbd116c860de62d6e2b534fb1e = L.circleMarker(\n                [44.97539533, 10.44871995],\n                {&quot;bubblingMouseEvents&quot;: true, &quot;color&quot;: &quot;blue&quot;, &quot;dashArray&quot;: null, &quot;dashOffset&quot;: null, &quot;fill&quot;: true, &quot;fillColor&quot;: &quot;blue&quot;, &quot;fillOpacity&quot;: 0.7, &quot;fillRule&quot;: &quot;evenodd&quot;, &quot;lineCap&quot;: &quot;round&quot;, &quot;lineJoin&quot;: &quot;round&quot;, &quot;opacity&quot;: 1.0, &quot;radius&quot;: 5, &quot;stroke&quot;: true, &quot;weight&quot;: 3}\n            ).addTo(map_7710a2a49b8583785614c7008b29ce0b);\n        \n    \n        var popup_f0678122c5af47923908dafea99e282d = L.popup({&quot;maxWidth&quot;: &quot;100%&quot;});\n\n        \n            \n                var html_18809708078fcb57b9a9ad4690864bd5 = $(`&lt;div id=&quot;html_18809708078fcb57b9a9ad4690864bd5&quot; style=&quot;width: 100.0%; height: 100.0%;&quot;&gt;Casalmaggiore&lt;/div&gt;`)[0];\n                popup_f0678122c5af47923908dafea99e282d.setContent(html_18809708078fcb57b9a9ad4690864bd5);\n            \n        \n\n        circle_marker_a4d26ebbd116c860de62d6e2b534fb1e.bindPopup(popup_f0678122c5af47923908dafea99e282d)\n        ;\n\n        \n    \n    \n            circle_marker_a4d26ebbd116c860de62d6e2b534fb1e.bindTooltip(\n                `&lt;div&gt;\n                     13\n                 &lt;/div&gt;`,\n                {&quot;sticky&quot;: true}\n            );\n        \n    \n            var circle_marker_da4b7c822d7860a0f0cfbfc6af592f09 = L.circleMarker(\n                [44.96031079, 10.4756655],\n                {&quot;bubblingMouseEvents&quot;: true, &quot;color&quot;: &quot;blue&quot;, &quot;dashArray&quot;: null, &quot;dashOffset&quot;: null, &quot;fill&quot;: true, &quot;fillColor&quot;: &quot;blue&quot;, &quot;fillOpacity&quot;: 0.7, &quot;fillRule&quot;: &quot;evenodd&quot;, &quot;lineCap&quot;: &quot;round&quot;, &quot;lineJoin&quot;: &quot;round&quot;, &quot;opacity&quot;: 1.0, &quot;radius&quot;: 5, &quot;stroke&quot;: true, &quot;weight&quot;: 3}\n            ).addTo(map_7710a2a49b8583785614c7008b29ce0b);\n        \n    \n        var popup_5d40bbe0f8be39e258de886edad4109f = L.popup({&quot;maxWidth&quot;: &quot;100%&quot;});\n\n        \n            \n                var html_f445e8419e6a101e9f3873695ab544f9 = $(`&lt;div id=&quot;html_f445e8419e6a101e9f3873695ab544f9&quot; style=&quot;width: 100.0%; height: 100.0%;&quot;&gt;Casalmaggiore&lt;/div&gt;`)[0];\n                popup_5d40bbe0f8be39e258de886edad4109f.setContent(html_f445e8419e6a101e9f3873695ab544f9);\n            \n        \n\n        circle_marker_da4b7c822d7860a0f0cfbfc6af592f09.bindPopup(popup_5d40bbe0f8be39e258de886edad4109f)\n        ;\n\n        \n    \n    \n            circle_marker_da4b7c822d7860a0f0cfbfc6af592f09.bindTooltip(\n                `&lt;div&gt;\n                     14\n                 &lt;/div&gt;`,\n                {&quot;sticky&quot;: true}\n            );\n        \n    \n            var circle_marker_e23847abccc77167c31a63eb081bdf7f = L.circleMarker(\n                [44.94727684, 10.46740817],\n                {&quot;bubblingMouseEvents&quot;: true, &quot;color&quot;: &quot;blue&quot;, &quot;dashArray&quot;: null, &quot;dashOffset&quot;: null, &quot;fill&quot;: true, &quot;fillColor&quot;: &quot;blue&quot;, &quot;fillOpacity&quot;: 0.7, &quot;fillRule&quot;: &quot;evenodd&quot;, &quot;lineCap&quot;: &quot;round&quot;, &quot;lineJoin&quot;: &quot;round&quot;, &quot;opacity&quot;: 1.0, &quot;radius&quot;: 5, &quot;stroke&quot;: true, &quot;weight&quot;: 3}\n            ).addTo(map_7710a2a49b8583785614c7008b29ce0b);\n        \n    \n        var popup_c535e1e773d37290186fa4f459471628 = L.popup({&quot;maxWidth&quot;: &quot;100%&quot;});\n\n        \n            \n                var html_de9581b13c7536b93b642d32294b4934 = $(`&lt;div id=&quot;html_de9581b13c7536b93b642d32294b4934&quot; style=&quot;width: 100.0%; height: 100.0%;&quot;&gt;Casalmaggiore&lt;/div&gt;`)[0];\n                popup_c535e1e773d37290186fa4f459471628.setContent(html_de9581b13c7536b93b642d32294b4934);\n            \n        \n\n        circle_marker_e23847abccc77167c31a63eb081bdf7f.bindPopup(popup_c535e1e773d37290186fa4f459471628)\n        ;\n\n        \n    \n    \n            circle_marker_e23847abccc77167c31a63eb081bdf7f.bindTooltip(\n                `&lt;div&gt;\n                     15\n                 &lt;/div&gt;`,\n                {&quot;sticky&quot;: true}\n            );\n        \n    \n            var circle_marker_af59681f9a511c6010bd271aae2cbbe3 = L.circleMarker(\n                [44.94344908, 10.47479692],\n                {&quot;bubblingMouseEvents&quot;: true, &quot;color&quot;: &quot;blue&quot;, &quot;dashArray&quot;: null, &quot;dashOffset&quot;: null, &quot;fill&quot;: true, &quot;fillColor&quot;: &quot;blue&quot;, &quot;fillOpacity&quot;: 0.7, &quot;fillRule&quot;: &quot;evenodd&quot;, &quot;lineCap&quot;: &quot;round&quot;, &quot;lineJoin&quot;: &quot;round&quot;, &quot;opacity&quot;: 1.0, &quot;radius&quot;: 5, &quot;stroke&quot;: true, &quot;weight&quot;: 3}\n            ).addTo(map_7710a2a49b8583785614c7008b29ce0b);\n        \n    \n        var popup_8db6362888d1da2565bf3c1513b1576d = L.popup({&quot;maxWidth&quot;: &quot;100%&quot;});\n\n        \n            \n                var html_de01f86f9200c46dfb051879b0c289fe = $(`&lt;div id=&quot;html_de01f86f9200c46dfb051879b0c289fe&quot; style=&quot;width: 100.0%; height: 100.0%;&quot;&gt;Viadana&lt;/div&gt;`)[0];\n                popup_8db6362888d1da2565bf3c1513b1576d.setContent(html_de01f86f9200c46dfb051879b0c289fe);\n            \n        \n\n        circle_marker_af59681f9a511c6010bd271aae2cbbe3.bindPopup(popup_8db6362888d1da2565bf3c1513b1576d)\n        ;\n\n        \n    \n    \n            circle_marker_af59681f9a511c6010bd271aae2cbbe3.bindTooltip(\n                `&lt;div&gt;\n                     16\n                 &lt;/div&gt;`,\n                {&quot;sticky&quot;: true}\n            );\n        \n    \n            var circle_marker_2d3fe418ab9f1adf4dfd0ce0cab935f4 = L.circleMarker(\n                [44.93989265, 10.49958635],\n                {&quot;bubblingMouseEvents&quot;: true, &quot;color&quot;: &quot;blue&quot;, &quot;dashArray&quot;: null, &quot;dashOffset&quot;: null, &quot;fill&quot;: true, &quot;fillColor&quot;: &quot;blue&quot;, &quot;fillOpacity&quot;: 0.7, &quot;fillRule&quot;: &quot;evenodd&quot;, &quot;lineCap&quot;: &quot;round&quot;, &quot;lineJoin&quot;: &quot;round&quot;, &quot;opacity&quot;: 1.0, &quot;radius&quot;: 5, &quot;stroke&quot;: true, &quot;weight&quot;: 3}\n            ).addTo(map_7710a2a49b8583785614c7008b29ce0b);\n        \n    \n        var popup_b3d649c8531cbceeef524a00298371b0 = L.popup({&quot;maxWidth&quot;: &quot;100%&quot;});\n\n        \n            \n                var html_d5c51200df874994ee1827d50446938a = $(`&lt;div id=&quot;html_d5c51200df874994ee1827d50446938a&quot; style=&quot;width: 100.0%; height: 100.0%;&quot;&gt;Viadana&lt;/div&gt;`)[0];\n                popup_b3d649c8531cbceeef524a00298371b0.setContent(html_d5c51200df874994ee1827d50446938a);\n            \n        \n\n        circle_marker_2d3fe418ab9f1adf4dfd0ce0cab935f4.bindPopup(popup_b3d649c8531cbceeef524a00298371b0)\n        ;\n\n        \n    \n    \n            circle_marker_2d3fe418ab9f1adf4dfd0ce0cab935f4.bindTooltip(\n                `&lt;div&gt;\n                     17\n                 &lt;/div&gt;`,\n                {&quot;sticky&quot;: true}\n            );\n        \n    \n            var circle_marker_72e6809978e44936aa15226de34531c8 = L.circleMarker(\n                [44.92803444, 10.52108953],\n                {&quot;bubblingMouseEvents&quot;: true, &quot;color&quot;: &quot;blue&quot;, &quot;dashArray&quot;: null, &quot;dashOffset&quot;: null, &quot;fill&quot;: true, &quot;fillColor&quot;: &quot;blue&quot;, &quot;fillOpacity&quot;: 0.7, &quot;fillRule&quot;: &quot;evenodd&quot;, &quot;lineCap&quot;: &quot;round&quot;, &quot;lineJoin&quot;: &quot;round&quot;, &quot;opacity&quot;: 1.0, &quot;radius&quot;: 5, &quot;stroke&quot;: true, &quot;weight&quot;: 3}\n            ).addTo(map_7710a2a49b8583785614c7008b29ce0b);\n        \n    \n        var popup_19590f770c2560ba4dee4aba851cbbe6 = L.popup({&quot;maxWidth&quot;: &quot;100%&quot;});\n\n        \n            \n                var html_cbf2115bbd0a330d7126641fb7442b5f = $(`&lt;div id=&quot;html_cbf2115bbd0a330d7126641fb7442b5f&quot; style=&quot;width: 100.0%; height: 100.0%;&quot;&gt;Viadana&lt;/div&gt;`)[0];\n                popup_19590f770c2560ba4dee4aba851cbbe6.setContent(html_cbf2115bbd0a330d7126641fb7442b5f);\n            \n        \n\n        circle_marker_72e6809978e44936aa15226de34531c8.bindPopup(popup_19590f770c2560ba4dee4aba851cbbe6)\n        ;\n\n        \n    \n    \n            circle_marker_72e6809978e44936aa15226de34531c8.bindTooltip(\n                `&lt;div&gt;\n                     18\n                 &lt;/div&gt;`,\n                {&quot;sticky&quot;: true}\n            );\n        \n    \n            var circle_marker_e67fcf7166a6c49f7c9680437fc1b629 = L.circleMarker(\n                [45.04932403, 10.74943798],\n                {&quot;bubblingMouseEvents&quot;: true, &quot;color&quot;: &quot;blue&quot;, &quot;dashArray&quot;: null, &quot;dashOffset&quot;: null, &quot;fill&quot;: true, &quot;fillColor&quot;: &quot;blue&quot;, &quot;fillOpacity&quot;: 0.7, &quot;fillRule&quot;: &quot;evenodd&quot;, &quot;lineCap&quot;: &quot;round&quot;, &quot;lineJoin&quot;: &quot;round&quot;, &quot;opacity&quot;: 1.0, &quot;radius&quot;: 5, &quot;stroke&quot;: true, &quot;weight&quot;: 3}\n            ).addTo(map_7710a2a49b8583785614c7008b29ce0b);\n        \n    \n        var popup_e2500c6ad0108181b91bb6c7fc783ec4 = L.popup({&quot;maxWidth&quot;: &quot;100%&quot;});\n\n        \n            \n                var html_da322bd4975afae693c2a2d382d1cd7e = $(`&lt;div id=&quot;html_da322bd4975afae693c2a2d382d1cd7e&quot; style=&quot;width: 100.0%; height: 100.0%;&quot;&gt;Borgo Virgilio&lt;/div&gt;`)[0];\n                popup_e2500c6ad0108181b91bb6c7fc783ec4.setContent(html_da322bd4975afae693c2a2d382d1cd7e);\n            \n        \n\n        circle_marker_e67fcf7166a6c49f7c9680437fc1b629.bindPopup(popup_e2500c6ad0108181b91bb6c7fc783ec4)\n        ;\n\n        \n    \n    \n            circle_marker_e67fcf7166a6c49f7c9680437fc1b629.bindTooltip(\n                `&lt;div&gt;\n                     19\n                 &lt;/div&gt;`,\n                {&quot;sticky&quot;: true}\n            );\n        \n    \n            var circle_marker_7a32d1608ce25bd27d3ec9cb91573d4b = L.circleMarker(\n                [45.04261078, 10.92796867],\n                {&quot;bubblingMouseEvents&quot;: true, &quot;color&quot;: &quot;blue&quot;, &quot;dashArray&quot;: null, &quot;dashOffset&quot;: null, &quot;fill&quot;: true, &quot;fillColor&quot;: &quot;blue&quot;, &quot;fillOpacity&quot;: 0.7, &quot;fillRule&quot;: &quot;evenodd&quot;, &quot;lineCap&quot;: &quot;round&quot;, &quot;lineJoin&quot;: &quot;round&quot;, &quot;opacity&quot;: 1.0, &quot;radius&quot;: 5, &quot;stroke&quot;: true, &quot;weight&quot;: 3}\n            ).addTo(map_7710a2a49b8583785614c7008b29ce0b);\n        \n    \n        var popup_f4797a78be148d2b7c3bbc3f188f649b = L.popup({&quot;maxWidth&quot;: &quot;100%&quot;});\n\n        \n            \n                var html_9f55359c5d003990aceeb69c9e319fe3 = $(`&lt;div id=&quot;html_9f55359c5d003990aceeb69c9e319fe3&quot; style=&quot;width: 100.0%; height: 100.0%;&quot;&gt;San Benedetto Po&lt;/div&gt;`)[0];\n                popup_f4797a78be148d2b7c3bbc3f188f649b.setContent(html_9f55359c5d003990aceeb69c9e319fe3);\n            \n        \n\n        circle_marker_7a32d1608ce25bd27d3ec9cb91573d4b.bindPopup(popup_f4797a78be148d2b7c3bbc3f188f649b)\n        ;\n\n        \n    \n    \n            circle_marker_7a32d1608ce25bd27d3ec9cb91573d4b.bindTooltip(\n                `&lt;div&gt;\n                     20\n                 &lt;/div&gt;`,\n                {&quot;sticky&quot;: true}\n            );\n        \n    \n            var circle_marker_3944843ac21159f9038f567ce09525cd = L.circleMarker(\n                [45.0532207, 10.92015144],\n                {&quot;bubblingMouseEvents&quot;: true, &quot;color&quot;: &quot;blue&quot;, &quot;dashArray&quot;: null, &quot;dashOffset&quot;: null, &quot;fill&quot;: true, &quot;fillColor&quot;: &quot;blue&quot;, &quot;fillOpacity&quot;: 0.7, &quot;fillRule&quot;: &quot;evenodd&quot;, &quot;lineCap&quot;: &quot;round&quot;, &quot;lineJoin&quot;: &quot;round&quot;, &quot;opacity&quot;: 1.0, &quot;radius&quot;: 5, &quot;stroke&quot;: true, &quot;weight&quot;: 3}\n            ).addTo(map_7710a2a49b8583785614c7008b29ce0b);\n        \n    \n        var popup_298855d608e95ad2896b555027a1b032 = L.popup({&quot;maxWidth&quot;: &quot;100%&quot;});\n\n        \n            \n                var html_2f3efdc6d16041c0c4d34e3c440e1de1 = $(`&lt;div id=&quot;html_2f3efdc6d16041c0c4d34e3c440e1de1&quot; style=&quot;width: 100.0%; height: 100.0%;&quot;&gt;San Benedetto Po&lt;/div&gt;`)[0];\n                popup_298855d608e95ad2896b555027a1b032.setContent(html_2f3efdc6d16041c0c4d34e3c440e1de1);\n            \n        \n\n        circle_marker_3944843ac21159f9038f567ce09525cd.bindPopup(popup_298855d608e95ad2896b555027a1b032)\n        ;\n\n        \n    \n    \n            circle_marker_3944843ac21159f9038f567ce09525cd.bindTooltip(\n                `&lt;div&gt;\n                     21\n                 &lt;/div&gt;`,\n                {&quot;sticky&quot;: true}\n            );\n        \n    \n            var circle_marker_c2657887d26b38e92c38510acda59129 = L.circleMarker(\n                [45.04730962, 10.86037201],\n                {&quot;bubblingMouseEvents&quot;: true, &quot;color&quot;: &quot;blue&quot;, &quot;dashArray&quot;: null, &quot;dashOffset&quot;: null, &quot;fill&quot;: true, &quot;fillColor&quot;: &quot;blue&quot;, &quot;fillOpacity&quot;: 0.7, &quot;fillRule&quot;: &quot;evenodd&quot;, &quot;lineCap&quot;: &quot;round&quot;, &quot;lineJoin&quot;: &quot;round&quot;, &quot;opacity&quot;: 1.0, &quot;radius&quot;: 5, &quot;stroke&quot;: true, &quot;weight&quot;: 3}\n            ).addTo(map_7710a2a49b8583785614c7008b29ce0b);\n        \n    \n        var popup_f10a3844feac67e2c137c2beb7ecb5ea = L.popup({&quot;maxWidth&quot;: &quot;100%&quot;});\n\n        \n            \n                var html_bcb3a36526c2987bce25df60aa22979e = $(`&lt;div id=&quot;html_bcb3a36526c2987bce25df60aa22979e&quot; style=&quot;width: 100.0%; height: 100.0%;&quot;&gt;San Benedetto Po&lt;/div&gt;`)[0];\n                popup_f10a3844feac67e2c137c2beb7ecb5ea.setContent(html_bcb3a36526c2987bce25df60aa22979e);\n            \n        \n\n        circle_marker_c2657887d26b38e92c38510acda59129.bindPopup(popup_f10a3844feac67e2c137c2beb7ecb5ea)\n        ;\n\n        \n    \n    \n            circle_marker_c2657887d26b38e92c38510acda59129.bindTooltip(\n                `&lt;div&gt;\n                     22\n                 &lt;/div&gt;`,\n                {&quot;sticky&quot;: true}\n            );\n        \n    \n            var circle_marker_ad2e23af7ad05851b2f0a3273402c0dc = L.circleMarker(\n                [45.03197032, 10.79529476],\n                {&quot;bubblingMouseEvents&quot;: true, &quot;color&quot;: &quot;blue&quot;, &quot;dashArray&quot;: null, &quot;dashOffset&quot;: null, &quot;fill&quot;: true, &quot;fillColor&quot;: &quot;blue&quot;, &quot;fillOpacity&quot;: 0.7, &quot;fillRule&quot;: &quot;evenodd&quot;, &quot;lineCap&quot;: &quot;round&quot;, &quot;lineJoin&quot;: &quot;round&quot;, &quot;opacity&quot;: 1.0, &quot;radius&quot;: 5, &quot;stroke&quot;: true, &quot;weight&quot;: 3}\n            ).addTo(map_7710a2a49b8583785614c7008b29ce0b);\n        \n    \n        var popup_91e0eadd5e2811fc97d51a0a3daebf02 = L.popup({&quot;maxWidth&quot;: &quot;100%&quot;});\n\n        \n            \n                var html_7255da82cb2be1c5a716e940793856bf = $(`&lt;div id=&quot;html_7255da82cb2be1c5a716e940793856bf&quot; style=&quot;width: 100.0%; height: 100.0%;&quot;&gt;Monteggiana&lt;/div&gt;`)[0];\n                popup_91e0eadd5e2811fc97d51a0a3daebf02.setContent(html_7255da82cb2be1c5a716e940793856bf);\n            \n        \n\n        circle_marker_ad2e23af7ad05851b2f0a3273402c0dc.bindPopup(popup_91e0eadd5e2811fc97d51a0a3daebf02)\n        ;\n\n        \n    \n    \n            circle_marker_ad2e23af7ad05851b2f0a3273402c0dc.bindTooltip(\n                `&lt;div&gt;\n                     23\n                 &lt;/div&gt;`,\n                {&quot;sticky&quot;: true}\n            );\n        \n    \n            var circle_marker_f1359ae641273f5a531a8f8c2b722e53 = L.circleMarker(\n                [45.0349671, 10.76370476],\n                {&quot;bubblingMouseEvents&quot;: true, &quot;color&quot;: &quot;blue&quot;, &quot;dashArray&quot;: null, &quot;dashOffset&quot;: null, &quot;fill&quot;: true, &quot;fillColor&quot;: &quot;blue&quot;, &quot;fillOpacity&quot;: 0.7, &quot;fillRule&quot;: &quot;evenodd&quot;, &quot;lineCap&quot;: &quot;round&quot;, &quot;lineJoin&quot;: &quot;round&quot;, &quot;opacity&quot;: 1.0, &quot;radius&quot;: 5, &quot;stroke&quot;: true, &quot;weight&quot;: 3}\n            ).addTo(map_7710a2a49b8583785614c7008b29ce0b);\n        \n    \n        var popup_c21c4ddcf27e2bc1954dae1ca8d90ceb = L.popup({&quot;maxWidth&quot;: &quot;100%&quot;});\n\n        \n            \n                var html_2094369e7eeb5f1a99abefc58fdb9f10 = $(`&lt;div id=&quot;html_2094369e7eeb5f1a99abefc58fdb9f10&quot; style=&quot;width: 100.0%; height: 100.0%;&quot;&gt;Monteggiana&lt;/div&gt;`)[0];\n                popup_c21c4ddcf27e2bc1954dae1ca8d90ceb.setContent(html_2094369e7eeb5f1a99abefc58fdb9f10);\n            \n        \n\n        circle_marker_f1359ae641273f5a531a8f8c2b722e53.bindPopup(popup_c21c4ddcf27e2bc1954dae1ca8d90ceb)\n        ;\n\n        \n    \n    \n            circle_marker_f1359ae641273f5a531a8f8c2b722e53.bindTooltip(\n                `&lt;div&gt;\n                     24\n                 &lt;/div&gt;`,\n                {&quot;sticky&quot;: true}\n            );\n        \n    \n            var circle_marker_38db649dbbfbc09d19dab698da89a5fa = L.circleMarker(\n                [45.02453063, 10.71508688],\n                {&quot;bubblingMouseEvents&quot;: true, &quot;color&quot;: &quot;blue&quot;, &quot;dashArray&quot;: null, &quot;dashOffset&quot;: null, &quot;fill&quot;: true, &quot;fillColor&quot;: &quot;blue&quot;, &quot;fillOpacity&quot;: 0.7, &quot;fillRule&quot;: &quot;evenodd&quot;, &quot;lineCap&quot;: &quot;round&quot;, &quot;lineJoin&quot;: &quot;round&quot;, &quot;opacity&quot;: 1.0, &quot;radius&quot;: 5, &quot;stroke&quot;: true, &quot;weight&quot;: 3}\n            ).addTo(map_7710a2a49b8583785614c7008b29ce0b);\n        \n    \n        var popup_d396640d6f1429db754ce4b8b9d3f839 = L.popup({&quot;maxWidth&quot;: &quot;100%&quot;});\n\n        \n            \n                var html_813f53b6564342d8724a85db5a5fda21 = $(`&lt;div id=&quot;html_813f53b6564342d8724a85db5a5fda21&quot; style=&quot;width: 100.0%; height: 100.0%;&quot;&gt;Suzzara&lt;/div&gt;`)[0];\n                popup_d396640d6f1429db754ce4b8b9d3f839.setContent(html_813f53b6564342d8724a85db5a5fda21);\n            \n        \n\n        circle_marker_38db649dbbfbc09d19dab698da89a5fa.bindPopup(popup_d396640d6f1429db754ce4b8b9d3f839)\n        ;\n\n        \n    \n    \n            circle_marker_38db649dbbfbc09d19dab698da89a5fa.bindTooltip(\n                `&lt;div&gt;\n                     25\n                 &lt;/div&gt;`,\n                {&quot;sticky&quot;: true}\n            );\n        \n    \n            var circle_marker_deb23dce5063f75e8b706c3fbc8e12f3 = L.circleMarker(\n                [44.97873593, 10.71097378],\n                {&quot;bubblingMouseEvents&quot;: true, &quot;color&quot;: &quot;blue&quot;, &quot;dashArray&quot;: null, &quot;dashOffset&quot;: null, &quot;fill&quot;: true, &quot;fillColor&quot;: &quot;blue&quot;, &quot;fillOpacity&quot;: 0.7, &quot;fillRule&quot;: &quot;evenodd&quot;, &quot;lineCap&quot;: &quot;round&quot;, &quot;lineJoin&quot;: &quot;round&quot;, &quot;opacity&quot;: 1.0, &quot;radius&quot;: 5, &quot;stroke&quot;: true, &quot;weight&quot;: 3}\n            ).addTo(map_7710a2a49b8583785614c7008b29ce0b);\n        \n    \n        var popup_72b29b3a53567087e24ef4993da6a24d = L.popup({&quot;maxWidth&quot;: &quot;100%&quot;});\n\n        \n            \n                var html_0f3721424fe4754718847729e699e731 = $(`&lt;div id=&quot;html_0f3721424fe4754718847729e699e731&quot; style=&quot;width: 100.0%; height: 100.0%;&quot;&gt;Suzzara&lt;/div&gt;`)[0];\n                popup_72b29b3a53567087e24ef4993da6a24d.setContent(html_0f3721424fe4754718847729e699e731);\n            \n        \n\n        circle_marker_deb23dce5063f75e8b706c3fbc8e12f3.bindPopup(popup_72b29b3a53567087e24ef4993da6a24d)\n        ;\n\n        \n    \n    \n            circle_marker_deb23dce5063f75e8b706c3fbc8e12f3.bindTooltip(\n                `&lt;div&gt;\n                     26\n                 &lt;/div&gt;`,\n                {&quot;sticky&quot;: true}\n            );\n        \n    \n            var circle_marker_7573fcf127370d3e0deaaea6b30fc9f7 = L.circleMarker(\n                [44.9804269, 10.72768532],\n                {&quot;bubblingMouseEvents&quot;: true, &quot;color&quot;: &quot;blue&quot;, &quot;dashArray&quot;: null, &quot;dashOffset&quot;: null, &quot;fill&quot;: true, &quot;fillColor&quot;: &quot;blue&quot;, &quot;fillOpacity&quot;: 0.7, &quot;fillRule&quot;: &quot;evenodd&quot;, &quot;lineCap&quot;: &quot;round&quot;, &quot;lineJoin&quot;: &quot;round&quot;, &quot;opacity&quot;: 1.0, &quot;radius&quot;: 5, &quot;stroke&quot;: true, &quot;weight&quot;: 3}\n            ).addTo(map_7710a2a49b8583785614c7008b29ce0b);\n        \n    \n        var popup_b1d873a4a64edaf4bcb8a37c60ac64fe = L.popup({&quot;maxWidth&quot;: &quot;100%&quot;});\n\n        \n            \n                var html_982bc96f3808a91f981f4e0687a3876d = $(`&lt;div id=&quot;html_982bc96f3808a91f981f4e0687a3876d&quot; style=&quot;width: 100.0%; height: 100.0%;&quot;&gt;Suzzara&lt;/div&gt;`)[0];\n                popup_b1d873a4a64edaf4bcb8a37c60ac64fe.setContent(html_982bc96f3808a91f981f4e0687a3876d);\n            \n        \n\n        circle_marker_7573fcf127370d3e0deaaea6b30fc9f7.bindPopup(popup_b1d873a4a64edaf4bcb8a37c60ac64fe)\n        ;\n\n        \n    \n    \n            circle_marker_7573fcf127370d3e0deaaea6b30fc9f7.bindTooltip(\n                `&lt;div&gt;\n                     27\n                 &lt;/div&gt;`,\n                {&quot;sticky&quot;: true}\n            );\n        \n    \n            var circle_marker_afab921d94a29350cdc721940d494358 = L.circleMarker(\n                [44.96175185, 10.68686342],\n                {&quot;bubblingMouseEvents&quot;: true, &quot;color&quot;: &quot;blue&quot;, &quot;dashArray&quot;: null, &quot;dashOffset&quot;: null, &quot;fill&quot;: true, &quot;fillColor&quot;: &quot;blue&quot;, &quot;fillOpacity&quot;: 0.7, &quot;fillRule&quot;: &quot;evenodd&quot;, &quot;lineCap&quot;: &quot;round&quot;, &quot;lineJoin&quot;: &quot;round&quot;, &quot;opacity&quot;: 1.0, &quot;radius&quot;: 5, &quot;stroke&quot;: true, &quot;weight&quot;: 3}\n            ).addTo(map_7710a2a49b8583785614c7008b29ce0b);\n        \n    \n        var popup_c78119e550b4ac7c4cc64c82f1b2819b = L.popup({&quot;maxWidth&quot;: &quot;100%&quot;});\n\n        \n            \n                var html_6bc557f0c69c1afa95edde20081c7c32 = $(`&lt;div id=&quot;html_6bc557f0c69c1afa95edde20081c7c32&quot; style=&quot;width: 100.0%; height: 100.0%;&quot;&gt;Luzzara - Piazza Iscaro&lt;/div&gt;`)[0];\n                popup_c78119e550b4ac7c4cc64c82f1b2819b.setContent(html_6bc557f0c69c1afa95edde20081c7c32);\n            \n        \n\n        circle_marker_afab921d94a29350cdc721940d494358.bindPopup(popup_c78119e550b4ac7c4cc64c82f1b2819b)\n        ;\n\n        \n    \n    \n            circle_marker_afab921d94a29350cdc721940d494358.bindTooltip(\n                `&lt;div&gt;\n                     28\n                 &lt;/div&gt;`,\n                {&quot;sticky&quot;: true}\n            );\n        \n    \n            var circle_marker_92b24a7678d4d544af5c1c43e5851a8d = L.circleMarker(\n                [44.92257818, 10.65363449],\n                {&quot;bubblingMouseEvents&quot;: true, &quot;color&quot;: &quot;blue&quot;, &quot;dashArray&quot;: null, &quot;dashOffset&quot;: null, &quot;fill&quot;: true, &quot;fillColor&quot;: &quot;blue&quot;, &quot;fillOpacity&quot;: 0.7, &quot;fillRule&quot;: &quot;evenodd&quot;, &quot;lineCap&quot;: &quot;round&quot;, &quot;lineJoin&quot;: &quot;round&quot;, &quot;opacity&quot;: 1.0, &quot;radius&quot;: 5, &quot;stroke&quot;: true, &quot;weight&quot;: 3}\n            ).addTo(map_7710a2a49b8583785614c7008b29ce0b);\n        \n    \n        var popup_08bc097ebacfddc6105211b9dce543c4 = L.popup({&quot;maxWidth&quot;: &quot;100%&quot;});\n\n        \n            \n                var html_c87cf89a6a34053a87f94dd61501dee4 = $(`&lt;div id=&quot;html_c87cf89a6a34053a87f94dd61501dee4&quot; style=&quot;width: 100.0%; height: 100.0%;&quot;&gt;Guastalla - Piazza Giuseppe Mazzini&lt;/div&gt;`)[0];\n                popup_08bc097ebacfddc6105211b9dce543c4.setContent(html_c87cf89a6a34053a87f94dd61501dee4);\n            \n        \n\n        circle_marker_92b24a7678d4d544af5c1c43e5851a8d.bindPopup(popup_08bc097ebacfddc6105211b9dce543c4)\n        ;\n\n        \n    \n    \n            circle_marker_92b24a7678d4d544af5c1c43e5851a8d.bindTooltip(\n                `&lt;div&gt;\n                     29\n                 &lt;/div&gt;`,\n                {&quot;sticky&quot;: true}\n            );\n        \n    \n            var circle_marker_be3c41fcc54ed94ddb715d1d1d7084b7 = L.circleMarker(\n                [44.91331576, 10.66425999],\n                {&quot;bubblingMouseEvents&quot;: true, &quot;color&quot;: &quot;blue&quot;, &quot;dashArray&quot;: null, &quot;dashOffset&quot;: null, &quot;fill&quot;: true, &quot;fillColor&quot;: &quot;blue&quot;, &quot;fillOpacity&quot;: 0.7, &quot;fillRule&quot;: &quot;evenodd&quot;, &quot;lineCap&quot;: &quot;round&quot;, &quot;lineJoin&quot;: &quot;round&quot;, &quot;opacity&quot;: 1.0, &quot;radius&quot;: 5, &quot;stroke&quot;: true, &quot;weight&quot;: 3}\n            ).addTo(map_7710a2a49b8583785614c7008b29ce0b);\n        \n    \n        var popup_a0f95b5c2f1c5d24274603cb0ae41455 = L.popup({&quot;maxWidth&quot;: &quot;100%&quot;});\n\n        \n            \n                var html_0dc776b750fa257e5e81bb4bc6471ced = $(`&lt;div id=&quot;html_0dc776b750fa257e5e81bb4bc6471ced&quot; style=&quot;width: 100.0%; height: 100.0%;&quot;&gt;Guastalla - Piazza Don Teobaldo Soragna&lt;/div&gt;`)[0];\n                popup_a0f95b5c2f1c5d24274603cb0ae41455.setContent(html_0dc776b750fa257e5e81bb4bc6471ced);\n            \n        \n\n        circle_marker_be3c41fcc54ed94ddb715d1d1d7084b7.bindPopup(popup_a0f95b5c2f1c5d24274603cb0ae41455)\n        ;\n\n        \n    \n    \n            circle_marker_be3c41fcc54ed94ddb715d1d1d7084b7.bindTooltip(\n                `&lt;div&gt;\n                     30\n                 &lt;/div&gt;`,\n                {&quot;sticky&quot;: true}\n            );\n        \n    \n            var circle_marker_981cce95bc86d75d05117d01b6520393 = L.circleMarker(\n                [44.90501646, 10.63023038],\n                {&quot;bubblingMouseEvents&quot;: true, &quot;color&quot;: &quot;blue&quot;, &quot;dashArray&quot;: null, &quot;dashOffset&quot;: null, &quot;fill&quot;: true, &quot;fillColor&quot;: &quot;blue&quot;, &quot;fillOpacity&quot;: 0.7, &quot;fillRule&quot;: &quot;evenodd&quot;, &quot;lineCap&quot;: &quot;round&quot;, &quot;lineJoin&quot;: &quot;round&quot;, &quot;opacity&quot;: 1.0, &quot;radius&quot;: 5, &quot;stroke&quot;: true, &quot;weight&quot;: 3}\n            ).addTo(map_7710a2a49b8583785614c7008b29ce0b);\n        \n    \n        var popup_a66bfea84b59bd36ab0353717d44e5b3 = L.popup({&quot;maxWidth&quot;: &quot;100%&quot;});\n\n        \n            \n                var html_4157debf6a2e5ac4f8befd56e0a15d65 = $(`&lt;div id=&quot;html_4157debf6a2e5ac4f8befd56e0a15d65&quot; style=&quot;width: 100.0%; height: 100.0%;&quot;&gt;Gualtieri - Piazza Bentivoglio&lt;/div&gt;`)[0];\n                popup_a66bfea84b59bd36ab0353717d44e5b3.setContent(html_4157debf6a2e5ac4f8befd56e0a15d65);\n            \n        \n\n        circle_marker_981cce95bc86d75d05117d01b6520393.bindPopup(popup_a66bfea84b59bd36ab0353717d44e5b3)\n        ;\n\n        \n    \n    \n            circle_marker_981cce95bc86d75d05117d01b6520393.bindTooltip(\n                `&lt;div&gt;\n                     31\n                 &lt;/div&gt;`,\n                {&quot;sticky&quot;: true}\n            );\n        \n    \n            var circle_marker_a8f08df64c8724fc19422a35ae5a49ee = L.circleMarker(\n                [44.90583841, 10.55122371],\n                {&quot;bubblingMouseEvents&quot;: true, &quot;color&quot;: &quot;blue&quot;, &quot;dashArray&quot;: null, &quot;dashOffset&quot;: null, &quot;fill&quot;: true, &quot;fillColor&quot;: &quot;blue&quot;, &quot;fillOpacity&quot;: 0.7, &quot;fillRule&quot;: &quot;evenodd&quot;, &quot;lineCap&quot;: &quot;round&quot;, &quot;lineJoin&quot;: &quot;round&quot;, &quot;opacity&quot;: 1.0, &quot;radius&quot;: 5, &quot;stroke&quot;: true, &quot;weight&quot;: 3}\n            ).addTo(map_7710a2a49b8583785614c7008b29ce0b);\n        \n    \n        var popup_d4645eda67863d9fd4b5fb240d4aea99 = L.popup({&quot;maxWidth&quot;: &quot;100%&quot;});\n\n        \n            \n                var html_801df0d2d26377f7411c9c88a25830c5 = $(`&lt;div id=&quot;html_801df0d2d26377f7411c9c88a25830c5&quot; style=&quot;width: 100.0%; height: 100.0%;&quot;&gt;Boretto - Piazza Nenni&lt;/div&gt;`)[0];\n                popup_d4645eda67863d9fd4b5fb240d4aea99.setContent(html_801df0d2d26377f7411c9c88a25830c5);\n            \n        \n\n        circle_marker_a8f08df64c8724fc19422a35ae5a49ee.bindPopup(popup_d4645eda67863d9fd4b5fb240d4aea99)\n        ;\n\n        \n    \n    \n            circle_marker_a8f08df64c8724fc19422a35ae5a49ee.bindTooltip(\n                `&lt;div&gt;\n                     32\n                 &lt;/div&gt;`,\n                {&quot;sticky&quot;: true}\n            );\n        \n    \n            var circle_marker_8bc50e910d319a30f6c156b452bf4eb4 = L.circleMarker(\n                [44.89863437, 10.51535221],\n                {&quot;bubblingMouseEvents&quot;: true, &quot;color&quot;: &quot;blue&quot;, &quot;dashArray&quot;: null, &quot;dashOffset&quot;: null, &quot;fill&quot;: true, &quot;fillColor&quot;: &quot;blue&quot;, &quot;fillOpacity&quot;: 0.7, &quot;fillRule&quot;: &quot;evenodd&quot;, &quot;lineCap&quot;: &quot;round&quot;, &quot;lineJoin&quot;: &quot;round&quot;, &quot;opacity&quot;: 1.0, &quot;radius&quot;: 5, &quot;stroke&quot;: true, &quot;weight&quot;: 3}\n            ).addTo(map_7710a2a49b8583785614c7008b29ce0b);\n        \n    \n        var popup_d81678d19ce6f3a92fdbaf984198376c = L.popup({&quot;maxWidth&quot;: &quot;100%&quot;});\n\n        \n            \n                var html_3c8a1818a2c53d57d7edc8238fd59bc8 = $(`&lt;div id=&quot;html_3c8a1818a2c53d57d7edc8238fd59bc8&quot; style=&quot;width: 100.0%; height: 100.0%;&quot;&gt;Brescello&lt;/div&gt;`)[0];\n                popup_d81678d19ce6f3a92fdbaf984198376c.setContent(html_3c8a1818a2c53d57d7edc8238fd59bc8);\n            \n        \n\n        circle_marker_8bc50e910d319a30f6c156b452bf4eb4.bindPopup(popup_d81678d19ce6f3a92fdbaf984198376c)\n        ;\n\n        \n    \n    \n            circle_marker_8bc50e910d319a30f6c156b452bf4eb4.bindTooltip(\n                `&lt;div&gt;\n                     33\n                 &lt;/div&gt;`,\n                {&quot;sticky&quot;: true}\n            );\n        \n    \n            var circle_marker_2497ef8614f44a35e728f508f3089f9a = L.circleMarker(\n                [45.04250563, 10.18582485],\n                {&quot;bubblingMouseEvents&quot;: true, &quot;color&quot;: &quot;blue&quot;, &quot;dashArray&quot;: null, &quot;dashOffset&quot;: null, &quot;fill&quot;: true, &quot;fillColor&quot;: &quot;blue&quot;, &quot;fillOpacity&quot;: 0.7, &quot;fillRule&quot;: &quot;evenodd&quot;, &quot;lineCap&quot;: &quot;round&quot;, &quot;lineJoin&quot;: &quot;round&quot;, &quot;opacity&quot;: 1.0, &quot;radius&quot;: 5, &quot;stroke&quot;: true, &quot;weight&quot;: 3}\n            ).addTo(map_7710a2a49b8583785614c7008b29ce0b);\n        \n    \n        var popup_83402fae41c42cf7d087e8080c0c31ad = L.popup({&quot;maxWidth&quot;: &quot;100%&quot;});\n\n        \n            \n                var html_209caceeecf98d25935d944e173bd706 = $(`&lt;div id=&quot;html_209caceeecf98d25935d944e173bd706&quot; style=&quot;width: 100.0%; height: 100.0%;&quot;&gt;San Daniele Po&lt;/div&gt;`)[0];\n                popup_83402fae41c42cf7d087e8080c0c31ad.setContent(html_209caceeecf98d25935d944e173bd706);\n            \n        \n\n        circle_marker_2497ef8614f44a35e728f508f3089f9a.bindPopup(popup_83402fae41c42cf7d087e8080c0c31ad)\n        ;\n\n        \n    \n    \n            circle_marker_2497ef8614f44a35e728f508f3089f9a.bindTooltip(\n                `&lt;div&gt;\n                     34\n                 &lt;/div&gt;`,\n                {&quot;sticky&quot;: true}\n            );\n        \n    \n            var circle_marker_ffdaa82413a5a1391c25285512295f7f = L.circleMarker(\n                [45.11468921, 9.993300053],\n                {&quot;bubblingMouseEvents&quot;: true, &quot;color&quot;: &quot;blue&quot;, &quot;dashArray&quot;: null, &quot;dashOffset&quot;: null, &quot;fill&quot;: true, &quot;fillColor&quot;: &quot;blue&quot;, &quot;fillOpacity&quot;: 0.7, &quot;fillRule&quot;: &quot;evenodd&quot;, &quot;lineCap&quot;: &quot;round&quot;, &quot;lineJoin&quot;: &quot;round&quot;, &quot;opacity&quot;: 1.0, &quot;radius&quot;: 5, &quot;stroke&quot;: true, &quot;weight&quot;: 3}\n            ).addTo(map_7710a2a49b8583785614c7008b29ce0b);\n        \n    \n        var popup_3d30229e9161bfe6a5bb22a3862fc3da = L.popup({&quot;maxWidth&quot;: &quot;100%&quot;});\n\n        \n            \n                var html_7c58e5af082969d23f3da8b0278d4b48 = $(`&lt;div id=&quot;html_7c58e5af082969d23f3da8b0278d4b48&quot; style=&quot;width: 100.0%; height: 100.0%;&quot;&gt;Castelvetro Piacentino&lt;/div&gt;`)[0];\n                popup_3d30229e9161bfe6a5bb22a3862fc3da.setContent(html_7c58e5af082969d23f3da8b0278d4b48);\n            \n        \n\n        circle_marker_ffdaa82413a5a1391c25285512295f7f.bindPopup(popup_3d30229e9161bfe6a5bb22a3862fc3da)\n        ;\n\n        \n    \n    \n            circle_marker_ffdaa82413a5a1391c25285512295f7f.bindTooltip(\n                `&lt;div&gt;\n                     35\n                 &lt;/div&gt;`,\n                {&quot;sticky&quot;: true}\n            );\n        \n    \n            var circle_marker_e59b9caf26a467e208b7092a177162b3 = L.circleMarker(\n                [45.09702346, 9.988414786],\n                {&quot;bubblingMouseEvents&quot;: true, &quot;color&quot;: &quot;blue&quot;, &quot;dashArray&quot;: null, &quot;dashOffset&quot;: null, &quot;fill&quot;: true, &quot;fillColor&quot;: &quot;blue&quot;, &quot;fillOpacity&quot;: 0.7, &quot;fillRule&quot;: &quot;evenodd&quot;, &quot;lineCap&quot;: &quot;round&quot;, &quot;lineJoin&quot;: &quot;round&quot;, &quot;opacity&quot;: 1.0, &quot;radius&quot;: 5, &quot;stroke&quot;: true, &quot;weight&quot;: 3}\n            ).addTo(map_7710a2a49b8583785614c7008b29ce0b);\n        \n    \n        var popup_77b5554c392f8934bf574e9b20a274ab = L.popup({&quot;maxWidth&quot;: &quot;100%&quot;});\n\n        \n            \n                var html_d52a9ef011cab897247571c05d5b4a88 = $(`&lt;div id=&quot;html_d52a9ef011cab897247571c05d5b4a88&quot; style=&quot;width: 100.0%; height: 100.0%;&quot;&gt;Castelvetro Piacentino - Piazza Stefano Villa&lt;/div&gt;`)[0];\n                popup_77b5554c392f8934bf574e9b20a274ab.setContent(html_d52a9ef011cab897247571c05d5b4a88);\n            \n        \n\n        circle_marker_e59b9caf26a467e208b7092a177162b3.bindPopup(popup_77b5554c392f8934bf574e9b20a274ab)\n        ;\n\n        \n    \n    \n            circle_marker_e59b9caf26a467e208b7092a177162b3.bindTooltip(\n                `&lt;div&gt;\n                     36\n                 &lt;/div&gt;`,\n                {&quot;sticky&quot;: true}\n            );\n        \n    \n            var circle_marker_dc43b3fa69a2bf052592aa265b7b9820 = L.circleMarker(\n                [45.10490159, 9.990212911],\n                {&quot;bubblingMouseEvents&quot;: true, &quot;color&quot;: &quot;blue&quot;, &quot;dashArray&quot;: null, &quot;dashOffset&quot;: null, &quot;fill&quot;: true, &quot;fillColor&quot;: &quot;blue&quot;, &quot;fillOpacity&quot;: 0.7, &quot;fillRule&quot;: &quot;evenodd&quot;, &quot;lineCap&quot;: &quot;round&quot;, &quot;lineJoin&quot;: &quot;round&quot;, &quot;opacity&quot;: 1.0, &quot;radius&quot;: 5, &quot;stroke&quot;: true, &quot;weight&quot;: 3}\n            ).addTo(map_7710a2a49b8583785614c7008b29ce0b);\n        \n    \n        var popup_04f42c6e44bc0df9533591717d64f8ec = L.popup({&quot;maxWidth&quot;: &quot;100%&quot;});\n\n        \n            \n                var html_1e0c0f6c0f1eb5abb68c8d058806e413 = $(`&lt;div id=&quot;html_1e0c0f6c0f1eb5abb68c8d058806e413&quot; style=&quot;width: 100.0%; height: 100.0%;&quot;&gt;Castelvetro Piacentino&lt;/div&gt;`)[0];\n                popup_04f42c6e44bc0df9533591717d64f8ec.setContent(html_1e0c0f6c0f1eb5abb68c8d058806e413);\n            \n        \n\n        circle_marker_dc43b3fa69a2bf052592aa265b7b9820.bindPopup(popup_04f42c6e44bc0df9533591717d64f8ec)\n        ;\n\n        \n    \n    \n            circle_marker_dc43b3fa69a2bf052592aa265b7b9820.bindTooltip(\n                `&lt;div&gt;\n                     37\n                 &lt;/div&gt;`,\n                {&quot;sticky&quot;: true}\n            );\n        \n    \n            var circle_marker_d209aaa7107881b4a15bc1b2bebffdae = L.circleMarker(\n                [45.10774331, 9.950801186],\n                {&quot;bubblingMouseEvents&quot;: true, &quot;color&quot;: &quot;blue&quot;, &quot;dashArray&quot;: null, &quot;dashOffset&quot;: null, &quot;fill&quot;: true, &quot;fillColor&quot;: &quot;blue&quot;, &quot;fillOpacity&quot;: 0.7, &quot;fillRule&quot;: &quot;evenodd&quot;, &quot;lineCap&quot;: &quot;round&quot;, &quot;lineJoin&quot;: &quot;round&quot;, &quot;opacity&quot;: 1.0, &quot;radius&quot;: 5, &quot;stroke&quot;: true, &quot;weight&quot;: 3}\n            ).addTo(map_7710a2a49b8583785614c7008b29ce0b);\n        \n    \n        var popup_c2e7cf6e88e6231913d25d9c41947706 = L.popup({&quot;maxWidth&quot;: &quot;100%&quot;});\n\n        \n            \n                var html_3a24d0c8df47be4e6c15678b7b8355ab = $(`&lt;div id=&quot;html_3a24d0c8df47be4e6c15678b7b8355ab&quot; style=&quot;width: 100.0%; height: 100.0%;&quot;&gt;Monticelli d&#x27;Ongina&lt;/div&gt;`)[0];\n                popup_c2e7cf6e88e6231913d25d9c41947706.setContent(html_3a24d0c8df47be4e6c15678b7b8355ab);\n            \n        \n\n        circle_marker_d209aaa7107881b4a15bc1b2bebffdae.bindPopup(popup_c2e7cf6e88e6231913d25d9c41947706)\n        ;\n\n        \n    \n    \n            circle_marker_d209aaa7107881b4a15bc1b2bebffdae.bindTooltip(\n                `&lt;div&gt;\n                     38\n                 &lt;/div&gt;`,\n                {&quot;sticky&quot;: true}\n            );\n        \n    \n            var circle_marker_904366f3445fcc69628b83e7065d1d81 = L.circleMarker(\n                [45.10599861, 9.962750012],\n                {&quot;bubblingMouseEvents&quot;: true, &quot;color&quot;: &quot;blue&quot;, &quot;dashArray&quot;: null, &quot;dashOffset&quot;: null, &quot;fill&quot;: true, &quot;fillColor&quot;: &quot;blue&quot;, &quot;fillOpacity&quot;: 0.7, &quot;fillRule&quot;: &quot;evenodd&quot;, &quot;lineCap&quot;: &quot;round&quot;, &quot;lineJoin&quot;: &quot;round&quot;, &quot;opacity&quot;: 1.0, &quot;radius&quot;: 5, &quot;stroke&quot;: true, &quot;weight&quot;: 3}\n            ).addTo(map_7710a2a49b8583785614c7008b29ce0b);\n        \n    \n        var popup_5fca1ab9e4791f09b97f2113f7baacd0 = L.popup({&quot;maxWidth&quot;: &quot;100%&quot;});\n\n        \n            \n                var html_06579f8ec1469301cce2b9039cefc3d3 = $(`&lt;div id=&quot;html_06579f8ec1469301cce2b9039cefc3d3&quot; style=&quot;width: 100.0%; height: 100.0%;&quot;&gt;Monticelli d&#x27;Ongina&lt;/div&gt;`)[0];\n                popup_5fca1ab9e4791f09b97f2113f7baacd0.setContent(html_06579f8ec1469301cce2b9039cefc3d3);\n            \n        \n\n        circle_marker_904366f3445fcc69628b83e7065d1d81.bindPopup(popup_5fca1ab9e4791f09b97f2113f7baacd0)\n        ;\n\n        \n    \n    \n            circle_marker_904366f3445fcc69628b83e7065d1d81.bindTooltip(\n                `&lt;div&gt;\n                     39\n                 &lt;/div&gt;`,\n                {&quot;sticky&quot;: true}\n            );\n        \n    \n            var circle_marker_f7a6e6c2c70f7f5238ad246eebb2eaf5 = L.circleMarker(\n                [45.08931715, 9.930930434],\n                {&quot;bubblingMouseEvents&quot;: true, &quot;color&quot;: &quot;blue&quot;, &quot;dashArray&quot;: null, &quot;dashOffset&quot;: null, &quot;fill&quot;: true, &quot;fillColor&quot;: &quot;blue&quot;, &quot;fillOpacity&quot;: 0.7, &quot;fillRule&quot;: &quot;evenodd&quot;, &quot;lineCap&quot;: &quot;round&quot;, &quot;lineJoin&quot;: &quot;round&quot;, &quot;opacity&quot;: 1.0, &quot;radius&quot;: 5, &quot;stroke&quot;: true, &quot;weight&quot;: 3}\n            ).addTo(map_7710a2a49b8583785614c7008b29ce0b);\n        \n    \n        var popup_b0bd113b04eeeb57123a562c8f57b986 = L.popup({&quot;maxWidth&quot;: &quot;100%&quot;});\n\n        \n            \n                var html_fcb0f04912e79f1584c69301698d7582 = $(`&lt;div id=&quot;html_fcb0f04912e79f1584c69301698d7582&quot; style=&quot;width: 100.0%; height: 100.0%;&quot;&gt;Monticelli d&#x27;Ongina&lt;/div&gt;`)[0];\n                popup_b0bd113b04eeeb57123a562c8f57b986.setContent(html_fcb0f04912e79f1584c69301698d7582);\n            \n        \n\n        circle_marker_f7a6e6c2c70f7f5238ad246eebb2eaf5.bindPopup(popup_b0bd113b04eeeb57123a562c8f57b986)\n        ;\n\n        \n    \n    \n            circle_marker_f7a6e6c2c70f7f5238ad246eebb2eaf5.bindTooltip(\n                `&lt;div&gt;\n                     40\n                 &lt;/div&gt;`,\n                {&quot;sticky&quot;: true}\n            );\n        \n    \n            var circle_marker_a9ead2577e48beedf085e8b2aca6dcb8 = L.circleMarker(\n                [45.0761191, 9.898700353],\n                {&quot;bubblingMouseEvents&quot;: true, &quot;color&quot;: &quot;blue&quot;, &quot;dashArray&quot;: null, &quot;dashOffset&quot;: null, &quot;fill&quot;: true, &quot;fillColor&quot;: &quot;blue&quot;, &quot;fillOpacity&quot;: 0.7, &quot;fillRule&quot;: &quot;evenodd&quot;, &quot;lineCap&quot;: &quot;round&quot;, &quot;lineJoin&quot;: &quot;round&quot;, &quot;opacity&quot;: 1.0, &quot;radius&quot;: 5, &quot;stroke&quot;: true, &quot;weight&quot;: 3}\n            ).addTo(map_7710a2a49b8583785614c7008b29ce0b);\n        \n    \n        var popup_c4b7d1ff658a376900a88be576e90f6d = L.popup({&quot;maxWidth&quot;: &quot;100%&quot;});\n\n        \n            \n                var html_d031f50835382fa0d52dbe5e8e12c3b2 = $(`&lt;div id=&quot;html_d031f50835382fa0d52dbe5e8e12c3b2&quot; style=&quot;width: 100.0%; height: 100.0%;&quot;&gt;Monticelli d&#x27;Ongina&lt;/div&gt;`)[0];\n                popup_c4b7d1ff658a376900a88be576e90f6d.setContent(html_d031f50835382fa0d52dbe5e8e12c3b2);\n            \n        \n\n        circle_marker_a9ead2577e48beedf085e8b2aca6dcb8.bindPopup(popup_c4b7d1ff658a376900a88be576e90f6d)\n        ;\n\n        \n    \n    \n            circle_marker_a9ead2577e48beedf085e8b2aca6dcb8.bindTooltip(\n                `&lt;div&gt;\n                     41\n                 &lt;/div&gt;`,\n                {&quot;sticky&quot;: true}\n            );\n        \n    \n            var circle_marker_849081d3fa5f0258d3a591de505ead42 = L.circleMarker(\n                [45.04930653, 9.871751787],\n                {&quot;bubblingMouseEvents&quot;: true, &quot;color&quot;: &quot;blue&quot;, &quot;dashArray&quot;: null, &quot;dashOffset&quot;: null, &quot;fill&quot;: true, &quot;fillColor&quot;: &quot;blue&quot;, &quot;fillOpacity&quot;: 0.7, &quot;fillRule&quot;: &quot;evenodd&quot;, &quot;lineCap&quot;: &quot;round&quot;, &quot;lineJoin&quot;: &quot;round&quot;, &quot;opacity&quot;: 1.0, &quot;radius&quot;: 5, &quot;stroke&quot;: true, &quot;weight&quot;: 3}\n            ).addTo(map_7710a2a49b8583785614c7008b29ce0b);\n        \n    \n        var popup_e5658a0378d18fdd62b34783f0990316 = L.popup({&quot;maxWidth&quot;: &quot;100%&quot;});\n\n        \n            \n                var html_9c1440430ed25dcc53f46fc6b0c9366f = $(`&lt;div id=&quot;html_9c1440430ed25dcc53f46fc6b0c9366f&quot; style=&quot;width: 100.0%; height: 100.0%;&quot;&gt;Caorso&lt;/div&gt;`)[0];\n                popup_e5658a0378d18fdd62b34783f0990316.setContent(html_9c1440430ed25dcc53f46fc6b0c9366f);\n            \n        \n\n        circle_marker_849081d3fa5f0258d3a591de505ead42.bindPopup(popup_e5658a0378d18fdd62b34783f0990316)\n        ;\n\n        \n    \n    \n            circle_marker_849081d3fa5f0258d3a591de505ead42.bindTooltip(\n                `&lt;div&gt;\n                     42\n                 &lt;/div&gt;`,\n                {&quot;sticky&quot;: true}\n            );\n        \n    \n            var circle_marker_3b732b6efddfe6565f580e25fadec9ca = L.circleMarker(\n                [45.04413922, 9.79587309],\n                {&quot;bubblingMouseEvents&quot;: true, &quot;color&quot;: &quot;blue&quot;, &quot;dashArray&quot;: null, &quot;dashOffset&quot;: null, &quot;fill&quot;: true, &quot;fillColor&quot;: &quot;blue&quot;, &quot;fillOpacity&quot;: 0.7, &quot;fillRule&quot;: &quot;evenodd&quot;, &quot;lineCap&quot;: &quot;round&quot;, &quot;lineJoin&quot;: &quot;round&quot;, &quot;opacity&quot;: 1.0, &quot;radius&quot;: 5, &quot;stroke&quot;: true, &quot;weight&quot;: 3}\n            ).addTo(map_7710a2a49b8583785614c7008b29ce0b);\n        \n    \n        var popup_e2192e1e69133726303a247257ac2cea = L.popup({&quot;maxWidth&quot;: &quot;100%&quot;});\n\n        \n            \n                var html_16ccbe00ad9655f2b04bce2c5b0b6857 = $(`&lt;div id=&quot;html_16ccbe00ad9655f2b04bce2c5b0b6857&quot; style=&quot;width: 100.0%; height: 100.0%;&quot;&gt;Piacenza&lt;/div&gt;`)[0];\n                popup_e2192e1e69133726303a247257ac2cea.setContent(html_16ccbe00ad9655f2b04bce2c5b0b6857);\n            \n        \n\n        circle_marker_3b732b6efddfe6565f580e25fadec9ca.bindPopup(popup_e2192e1e69133726303a247257ac2cea)\n        ;\n\n        \n    \n    \n            circle_marker_3b732b6efddfe6565f580e25fadec9ca.bindTooltip(\n                `&lt;div&gt;\n                     43\n                 &lt;/div&gt;`,\n                {&quot;sticky&quot;: true}\n            );\n        \n&lt;/script&gt;\n&lt;/html&gt;\" width=\"1000\" height=\"700\"style=\"border:none !important;\" \"allowfullscreen\" \"webkitallowfullscreen\" \"mozallowfullscreen\"></iframe>"
     },
     "execution_count": 5,
     "metadata": {},
     "output_type": "execute_result"
    }
   ],
   "source": [
    "import folium\n",
    "from branca.element import Figure\n",
    "\n",
    "\n",
    "def create_folium_map(candidate_sites_coordinates: pd.DataFrame, center: list[float]) -> folium.Map:\n",
    "    \"\"\"\n",
    "    Creates a Folium map with CircleMarkers for candidate sites.\n",
    "\n",
    "    Parameters:\n",
    "    - candidate_sites_coordinates (pd.DataFrame): DataFrame containing candidate sites data with 'y (latitude)', 'x (longitude)',\n",
    "      'Comune', 'Piazza', and 'tourist_dest_id'.\n",
    "    - center (List[float]): List representing the center location of the map [latitude, longitude].\n",
    "\n",
    "    Returns:\n",
    "    - folium.Map: Folium map with CircleMarkers for candidate sites.\n",
    "    \"\"\"\n",
    "    # Initialize the map\n",
    "    map = folium.Map(location=center, zoom_start=10)\n",
    "\n",
    "    # Add CircleMarkers for each row in candidate_sites_coordinates\n",
    "    for _, row in candidate_sites_coordinates.iterrows():\n",
    "        popup_text = f\"{row['Comune']} - {row['Piazza']}\" if pd.notna(row['Piazza']) else f\"{row['Comune']}\"\n",
    "\n",
    "        folium.CircleMarker(\n",
    "            location=[row['y (latitude)'], row['x (longitude)']],\n",
    "            radius=5,\n",
    "            color='blue',\n",
    "            fill=True,\n",
    "            fill_color='blue',\n",
    "            fill_opacity=0.7,\n",
    "            popup=popup_text,\n",
    "            tooltip=str(row['tourist_dest_id'])\n",
    "        ).add_to(map)\n",
    "\n",
    "    return map\n",
    "\n",
    "\n",
    "# Center location\n",
    "map_center: list[float] = [44.92803444, 10.52108953]\n",
    "\n",
    "# Create Folium map with the specified center\n",
    "nodes_map: folium.Map = create_folium_map(candidate_sites_coordinates=nodes_data, center=map_center)\n",
    "\n",
    "# Create a Figure and add the Folium map to it\n",
    "fig: Figure = Figure(width=1000, height=700)\n",
    "fig.add_child(nodes_map)\n",
    "\n",
    "# Display the Figure\n",
    "fig"
   ]
  },
  {
   "cell_type": "code",
   "execution_count": 6,
   "id": "230197ed8d0def43",
   "metadata": {
    "collapsed": false,
    "ExecuteTime": {
     "end_time": "2024-01-25T15:32:42.778421390Z",
     "start_time": "2024-01-25T15:32:42.319531129Z"
    }
   },
   "outputs": [],
   "source": [
    "def find_first_node(nodes_data: pd.DataFrame) -> int:\n",
    "    \"\"\"\n",
    "    Finds the first node based on the lowest value of longitude.\n",
    "\n",
    "    Parameters:\n",
    "    - nodes_data (pd.DataFrame): DataFrame containing node data with 'tourist_dest_id', 'x (longitude)', 'y (latitude)', etc.\n",
    "\n",
    "    Returns:\n",
    "    - int: The tourist destination ID of the node with the lowest longitude.\n",
    "    \"\"\"\n",
    "    min_longitude_row = nodes_data.loc[nodes_data['x (longitude)'].idxmin()]\n",
    "    return min_longitude_row['tourist_dest_id']\n",
    "\n",
    "\n",
    "def find_last_node(nodes_data: pd.DataFrame) -> int:\n",
    "    \"\"\"\n",
    "    Finds the last node based on the highest value of longitude.\n",
    "\n",
    "    Parameters:\n",
    "    - nodes_data (pd.DataFrame): DataFrame containing node data with 'tourist_dest_id', 'x (longitude)', 'y (latitude)', etc.\n",
    "\n",
    "    Returns:\n",
    "    - int: The tourist destination ID of the node with the highest longitude.\n",
    "    \"\"\"\n",
    "    max_longitude_row = nodes_data.loc[nodes_data['x (longitude)'].idxmax()]\n",
    "    return max_longitude_row['tourist_dest_id']\n"
   ]
  },
  {
   "cell_type": "code",
   "execution_count": 7,
   "id": "kUQ0SWZmk_PS",
   "metadata": {
    "id": "kUQ0SWZmk_PS",
    "ExecuteTime": {
     "end_time": "2024-01-25T15:32:43.187908554Z",
     "start_time": "2024-01-25T15:32:42.779062004Z"
    }
   },
   "outputs": [],
   "source": [
    "#set the timer\n",
    "# Starting time\n",
    "start_time = time.time()\n",
    "#TO DO"
   ]
  },
  {
   "cell_type": "markdown",
   "id": "bd68ca36",
   "metadata": {},
   "source": [
    "## Shortest path -> Graph\n",
    "This algorithm is used to find the shortest path between two nodes (head, tail). In this case:\n",
    "- Head: 0\n",
    "- Tail: 20 (52 in the original OD file) -> selected because is the furthest from 0 if we look at the path (this selection of the node could be automatized)"
   ]
  },
  {
   "cell_type": "code",
   "execution_count": null,
   "metadata": {
    "is_executing": true,
    "ExecuteTime": {
     "start_time": "2024-01-25T15:32:43.189062977Z"
    }
   },
   "outputs": [
    {
     "name": "stdout",
     "output_type": "stream",
     "text": [
      "Number y (arc ij is selected or not) of variables: 1936\n",
      "Welcome to the CBC MILP Solver \n",
      "Version: Trunk\n",
      "Build Date: Oct 24 2021 \n",
      "\n",
      "Starting solution of the Linear programming relaxation problem using Dual Simplex\n",
      "Coin0506I Presolve 3746160 (-1938) rows, 3744226 (-5806) columns and 18709518 (-11608) elements\n",
      "Clp0014I Perturbing problem by 0.001% of 252710.17 - largest nonzero change 0.45994189 ( 0.26471931%) - largest zero change 0.25281015\n",
      "Clp0006I 2000  Obj 2584.5732 Primal inf 5441.6884 (3164)\n",
      "Clp0006I 4000  Obj 2604.1834 Primal inf 8133.7238 (2141)\n",
      "Clp0006I 5000  Obj 2604.1916 Primal inf 63.834929 (1166)\n",
      "Clp0006I 6000  Obj 2604.1867 Primal inf 22.853597 (510)\n",
      "Clp0006I 6426  Obj 2604.1856\n",
      "Clp0000I Optimal - objective value 0\n",
      "Coin0511I After Postsolve, objective 0, infeasibilities - dual 0 (0), primal 0 (0)\n",
      "Clp0032I Optimal objective 0 - 6426 iterations time 72.282, Presolve 7.77\n",
      "\n",
      "Starting MIP optimization\n"
     ]
    }
   ],
   "source": [
    "import mip\n",
    "import math\n",
    "\n",
    "n = len(od_data)\n",
    "distance_matrix = [[0 for j in range(n)] for i in range(n)]\n",
    "\n",
    "for _, row in od_data.iterrows():\n",
    "    i, j = int(row['origin_id']), int(row['destination_id'])\n",
    "    if math.isnan(row['distance [m]']):\n",
    "        distance_matrix[i][j] = 0\n",
    "    else:\n",
    "        distance_matrix[i][j] = row['distance [m]']\n",
    "\n",
    "# Create model\n",
    "m = mip.Model()\n",
    "\n",
    "# define the variables\n",
    "x = [[m.add_var(var_type=mip.BINARY) for j in range(n)] for i in range(n)]\n",
    "print(f\"Number y (arc ij is selected or not) of variables: {len(x)}\")\n",
    "\n",
    "#  define the constraints\n",
    "first_node = find_first_node(nodes_data)\n",
    "last_node = find_last_node(nodes_data)\n",
    "\n",
    "for i in range(n):\n",
    "    m += x[i][i] == 0\n",
    "    if i == last_node:\n",
    "        m += mip.xsum(x[i][j] for j in range(n) if i != j) == 0  # set the sink node to 20 -> no outgoing arcs\n",
    "    else:\n",
    "        m += mip.xsum(x[i][j] for j in range(n) if i != j) == 1\n",
    "\n",
    "    if i == first_node:\n",
    "        m += mip.xsum(x[j][i] for j in range(n) if i != j) == 0  # set the source node to 0 -> no incoming arcs\n",
    "    else:\n",
    "        m += mip.xsum(x[j][i] for j in range(n) if i != j) == 1\n",
    "\n",
    "    # Sub-tour elimination\n",
    "u = [m.add_var() for i in range(n)]\n",
    "for i in range(1, n):\n",
    "    for j in range(1, n):\n",
    "        if i != j:\n",
    "            m += u[i] - u[j] + (n - 1) * x[i][j] <= n - 2\n",
    "\n",
    "# optimize objective function\n",
    "m.objective = mip.minimize(mip.xsum(distance_matrix[i][j] * x[i][j] for i in range(n) for j in range(n)))\n",
    "\n",
    "m.optimize()\n",
    "\n",
    "path = []\n",
    "for i in range(n):\n",
    "    for j in range(n):\n",
    "        if x[i][j].x > 0.5:  # If the path is chosen in the solution\n",
    "            path.append((i, j))\n",
    "\n",
    "# Display the solution path\n",
    "print(\"Optimal path:\", path)\n",
    "\n",
    "current_node = 0\n",
    "\n",
    "# Initialize the ordered path list with the start node\n",
    "ordered_path = [current_node]\n",
    "\n",
    "# Loop until we reach the end node (20 in this case)\n",
    "while current_node != 20:\n",
    "    for j in range(n):\n",
    "        if x[current_node][j].x >= 0.99:  # If the path goes from current_node to j\n",
    "            ordered_path.append(j)  # Add j to the path\n",
    "            current_node = j  # Update the current node to j\n",
    "            break\n",
    "\n",
    "# Print the ordered path\n",
    "print(\"Ordered path from 0 to 20:\", ordered_path)\n",
    "\n",
    "total_distance = 0\n",
    "\n",
    "# Iterate over the path to sum the distances\n",
    "for i in range(len(ordered_path) - 1):\n",
    "    total_distance += distance_matrix[ordered_path[i]][ordered_path[i + 1]]\n",
    "\n",
    "print(\"Total distance from start to finish:\", total_distance)"
   ],
   "id": "12f974db25530616"
  },
  {
   "cell_type": "code",
   "execution_count": null,
   "id": "74f84b32",
   "metadata": {
    "is_executing": true
   },
   "outputs": [],
   "source": [
    "G = nx.DiGraph()\n",
    "\n",
    "# Add nodes\n",
    "for i, row in nodes_data.iterrows():\n",
    "    G.add_node(row[\"tourist_dest_id\"], pos=(row[\"x (longitude)\"], row[\"y (latitude)\"]),\n",
    "               label=row[\"Comune\"] + \" - \" + str(row[\"Piazza\"]))\n",
    "\n",
    "# Add edges for the optimal path\n",
    "for i in range(len(path)):\n",
    "    origin, destination = path[i]\n",
    "    G.add_edge(origin, destination, distance=distance_matrix[origin][destination])\n",
    "\n",
    "# Draw the graph\n",
    "pos = nx.get_node_attributes(G, \"pos\")\n",
    "nx.draw(G, pos, with_labels=True, node_size=500, font_size=8, font_color=\"black\", font_weight=\"bold\",\n",
    "        node_color=\"skyblue\", edge_color=\"gray\", arrowsize=10)\n",
    "\n",
    "plt.show()"
   ]
  },
  {
   "cell_type": "markdown",
   "id": "8aef71e6",
   "metadata": {},
   "source": [
    "If you want to reset the graph to its original state, run the cell on top of this one again."
   ]
  },
  {
   "cell_type": "code",
   "execution_count": null,
   "id": "d8177787",
   "metadata": {
    "is_executing": true
   },
   "outputs": [],
   "source": [
    "max_distance = 5_0000\n",
    "count = 0\n",
    "\n",
    "for i, node in enumerate(ordered_path):\n",
    "    for j in range(n):\n",
    "        # Check if the node is not the next node in the path and is within the distance limit\n",
    "        if j != node and (i == len(ordered_path) - 1 or j != ordered_path[i + 1]) and distance_matrix[node][\n",
    "            j] <= max_distance:\n",
    "            # Add an edge only if there isn't already an edge in either direction\n",
    "            if not G.has_edge(node, j) and not G.has_edge(j, node):\n",
    "                count = count + 1\n",
    "                G.add_edge(node, j, distance=distance_matrix[node][j])\n",
    "\n",
    "# Update the graph\n",
    "pos = nx.get_node_attributes(G, \"pos\")\n",
    "plt.figure(figsize=(15, 15))\n",
    "nx.draw(G, pos, with_labels=True, node_size=500, font_size=8, font_color=\"black\", font_weight=\"bold\",\n",
    "        node_color=\"skyblue\", edge_color=\"gray\", arrowsize=10)\n",
    "\n",
    "plt.show()"
   ]
  },
  {
   "cell_type": "code",
   "execution_count": null,
   "id": "F29pxMjAT7n5",
   "metadata": {
    "id": "F29pxMjAT7n5",
    "is_executing": true
   },
   "outputs": [],
   "source": [
    "import mip\n",
    "\n",
    "# Create model\n",
    "m = mip.Model()\n",
    "\n",
    "# define the variables\n",
    "\n",
    "# TO DO\n",
    "\n",
    "\n",
    "#  define the constraints\n",
    "# Budget Constraint\n",
    "\n",
    "# Flow Conservation Constraints\n",
    "\n",
    "\n",
    "# TO DO\n",
    "\n",
    "\n",
    "# optimize objective function\n",
    "# TO DO\n",
    "\n",
    "\n",
    "m.optimize()"
   ]
  },
  {
   "cell_type": "code",
   "execution_count": null,
   "id": "tf36urfdmSM0",
   "metadata": {
    "id": "tf36urfdmSM0",
    "is_executing": true
   },
   "outputs": [],
   "source": [
    "print(m.objective_value)"
   ]
  },
  {
   "cell_type": "code",
   "execution_count": null,
   "id": "t0HUue7slLVH",
   "metadata": {
    "id": "t0HUue7slLVH",
    "is_executing": true
   },
   "outputs": [],
   "source": [
    "#plot the graph\n",
    "\n",
    "#TO DO"
   ]
  },
  {
   "cell_type": "code",
   "execution_count": null,
   "id": "U9zSeGbJkZ9t",
   "metadata": {
    "id": "U9zSeGbJkZ9t",
    "is_executing": true
   },
   "outputs": [],
   "source": [
    "# parametric analysis\n",
    "\n",
    "\n",
    "#TO DO\n",
    "\n",
    "\n",
    "\n"
   ]
  }
 ],
 "metadata": {
  "colab": {
   "provenance": []
  },
  "kernelspec": {
   "display_name": "Python 3 (ipykernel)",
   "language": "python",
   "name": "python3"
  },
  "language_info": {
   "codemirror_mode": {
    "name": "ipython",
    "version": 3
   },
   "file_extension": ".py",
   "mimetype": "text/x-python",
   "name": "python",
   "nbconvert_exporter": "python",
   "pygments_lexer": "ipython3",
   "version": "3.9.7"
  }
 },
 "nbformat": 4,
 "nbformat_minor": 5
}
