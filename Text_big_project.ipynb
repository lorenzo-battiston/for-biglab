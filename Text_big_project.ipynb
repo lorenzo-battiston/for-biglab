{
  "cells": [
    {
      "cell_type": "markdown",
      "id": "4197923e",
      "metadata": {
        "id": "4197923e"
      },
      "source": [
        "# Big project activity"
      ]
    },
    {
      "cell_type": "markdown",
      "id": "k435Psgdexbb",
      "metadata": {
        "id": "k435Psgdexbb"
      },
      "source": [
        "## Optimal charging station location"
      ]
    },
    {
      "cell_type": "markdown",
      "id": "71e8cba3",
      "metadata": {
        "id": "71e8cba3"
      },
      "source": [
        "### 1.Introduction\n",
        "\n",
        "Consider a long linear cycle path as Vento, or the Danube cycle path. The cycle path usually runs along the banks of a river with scarce tourist interest. However, from the main course of the cycle path, it is possible to reach places of tourist interest in making small detours.  \n",
        "\n",
        "The rapid growth of e-bike ridership is proposing the problem of deploying a suitable charging infrastructure. The charging stations should be placed in strategic positions so as to guarantee a coverage of the whole cycle path. However, since the charging operations require a non-negligible time, the charging station should be positioned in places where alternative activities could be carried out, as restaurants, museums, swimming pool, or other amenities. Moreover, the presence of a charging station could also induce e-cyclists to discover new places and generate positive externalities.\n",
        "\n"
      ]
    },
    {
      "cell_type": "markdown",
      "id": "F5J-AOngfJfC",
      "metadata": {
        "id": "F5J-AOngfJfC"
      },
      "source": [
        "### 2.Decision problem\n",
        "We can represent the cycle path as a graph where the set of nodes $H = \\{1,\\ldots, n\\}$ corresponds to the tourist sites that may host a charging station.\n",
        "In addition, we are given the distances between touristic sites ($d_{ij},$ with $ i,j =1,\\ldots,n$). Let $c_i$ be the cost of installing a charging station in site $i, i=1\\ldots, n$.\n",
        "\n",
        "\n",
        "The problem is, given a budget $b$, determine the subset of sites $S\\subseteq H$ where to install the charging stations so that the total cost is not higher than $b$ and the maximum distance between consecutive charging stations is minimized.\n",
        "Consider that the cyclist has to visit all the touristic destinations in a consecutive way.\n",
        "\n"
      ]
    },
    {
      "cell_type": "markdown",
      "id": "6f1SzgfSfXlb",
      "metadata": {
        "id": "6f1SzgfSfXlb"
      },
      "source": [
        "### 3.Problem characteristics\n",
        "There are 2 csv files that contain the information of the cycle way, they are essential to build the equivalent graph:\n",
        "\n",
        "\n",
        "*    in the \"nodes.csv\" file, there are all the destinations that the cyclist can reach, with their spatial coordinates and the value of installation costs related to that destination. Consider that the \"tourist-dest-id\" is not the graph node number, but it is a unique id to identify the destination.\n",
        "*   in the \"OD.csv\" you can find all the arcs between two different nodes, keep attention that the condition of visiting consecutive touristic destination must be respected.\n",
        "\n",
        "The set of nodes $N$ is defined by $\\{0,1,\\ldots,n, n+1\\}$.  The Arcs $A$ correspond to the portion of cycle path between two consecutive charging stations. We assume that potentially e-riders will visit all sites along the way, making the suitable deviations and going back to the main path at the initial point of the detour.\n",
        "The cost associated with each arc $(i,j)$ is given by $c_j$, thus the cost of installing a charging station in $j$. These costs are defined for all arcs in $A$, while they are set to 0 for all the arcs that arrive in the last node.\n",
        "The path starts in node $s = 0$ and ends in node $t = n+1$, these two nodes are connected to the nearest touristic site with an arc of null length.\n",
        "\n",
        "### 4.Example of a linear path with deviation\n",
        "![picture](https://drive.google.com/uc?export=view&id=1w16bHtbu0FGGL-UntxeqxD7244D3eHbJ)"
      ]
    },
    {
      "cell_type": "markdown",
      "id": "C3mv0MBqf-7F",
      "metadata": {
        "id": "C3mv0MBqf-7F"
      },
      "source": [
        "### 5.Requirements\n",
        "The requirements of the problem are:\n",
        "\n",
        "\n",
        "*   the maximum running time of the algorithm must be 5 minutes, so set the proper timer\n",
        "*   create the equivalent graph and display it on a xy-plot\n",
        "*   find the solution for the basic scenario, with a mip model, displaying the solution with a xy-plot, the budget constraint is $b = 10000\\ € $.\n",
        "*   Find the optimal solution for 5 different values of budget in the range $[10000, 100000]$. Select the values of the budget so as to have different charger locations.\n",
        "\n",
        "  You have to motivate your choice and the solution you get. They can also be not common solution if they are well motivated. To support your decision and explanations, you can print plots or tables. You can also compare different scenarios.\n",
        "\n",
        "\n",
        "   \n",
        "If you have some doubts related to the parametric analysis, prof. Cubillos uploaded a notebook with the solution on WeBeeP and you can have a look there."
      ]
    },
    {
      "cell_type": "markdown",
      "id": "83391c72",
      "metadata": {
        "id": "83391c72"
      },
      "source": [
        "### Insert student name and student ID\n",
        "\n",
        "student1:\n",
        "\n",
        "ID1:\n",
        "\n",
        "student2:\n",
        "\n",
        "ID2:\n",
        "\n",
        "student3\n",
        "\n",
        "ID3:\n",
        "\n"
      ]
    },
    {
      "cell_type": "code",
      "execution_count": null,
      "id": "1Wtgd9v5j6QG",
      "metadata": {
        "colab": {
          "base_uri": "https://localhost:8080/"
        },
        "id": "1Wtgd9v5j6QG",
        "outputId": "66282fb9-cb66-436c-b2c1-39bd0f1bb3fc"
      },
      "outputs": [],
      "source": [
        "#install libraries\n",
        "!pip install mip\n",
        "!pip install --upgrade cffi==1.15.0\n",
        "!pip install jupyter_contrib_nbextensions\n",
        "!pip install pyCombinatorial\n",
        "!pip install -U prettytable"
      ]
    },
    {
      "cell_type": "code",
      "execution_count": null,
      "id": "Mi18Bfmt2ncF",
      "metadata": {
        "colab": {
          "base_uri": "https://localhost:8080/"
        },
        "id": "Mi18Bfmt2ncF",
        "outputId": "9116fafb-31c2-4610-973b-f92dc59a5f1d"
      },
      "outputs": [],
      "source": [
        "!jupyter contrib nbextension install --user\n",
        "!jupyter nbextension enable execute_time/ExecuteTime"
      ]
    },
    {
      "cell_type": "code",
      "execution_count": null,
      "id": "6ac6b084",
      "metadata": {
        "id": "6ac6b084"
      },
      "outputs": [],
      "source": [
        "#import libraries\n",
        "import importlib\n",
        "import cffi\n",
        "\n",
        "importlib.reload(cffi)\n",
        "import numpy as np\n",
        "import networkx as nx\n",
        "import matplotlib.pyplot as plt\n",
        "import pandas as pd\n",
        "import random\n",
        "import folium\n",
        "import datetime\n",
        "from branca.element import Figure"
      ]
    },
    {
      "cell_type": "code",
      "execution_count": null,
      "id": "4e185f14",
      "metadata": {},
      "outputs": [],
      "source": [
        "# set the budget\n",
        "budget: int = 28_000\n",
        "print(f\"Budget: {budget:,.2f} €\")\n",
        "\n",
        "max_distance = 50_000  # 50,000 meters\n",
        "print(f\"Max Distance: {max_distance:,.0f}\")"
      ]
    },
    {
      "cell_type": "code",
      "execution_count": null,
      "id": "mo406Nua3Tqc",
      "metadata": {
        "id": "mo406Nua3Tqc"
      },
      "outputs": [],
      "source": [
        "starting_time = datetime.datetime.now()"
      ]
    },
    {
      "cell_type": "code",
      "execution_count": null,
      "id": "641a79b333603a4b",
      "metadata": {
        "colab": {
          "base_uri": "https://localhost:8080/"
        },
        "id": "641a79b333603a4b",
        "outputId": "38209104-726e-4bd7-a649-7d614c13a4d9"
      },
      "outputs": [],
      "source": [
        "# Load nodes data from CSV\n",
        "import pandas as pd\n",
        "\n",
        "nodes_data: pd.DataFrame = pd.read_csv('nodes.csv', encoding='unicode_escape')\n",
        "\n",
        "# Display information about candidate touristic sites and nodes\n",
        "num_nodes: int = len(nodes_data) + 2\n",
        "print(f\"Number of candidate touristic sites: {len(nodes_data)}\")\n",
        "print(f\"Number of Nodes (including source and sink): {num_nodes}\")\n",
        "\n",
        "# Load OD data from CSV and map node IDs\n",
        "od_data: pd.DataFrame = pd.read_csv('OD.csv')\n",
        "node_id_mapping: dict[int, int] = {node_id: i for i, node_id in enumerate(nodes_data['tourist_dest_id'])}\n",
        "od_data[['origin_id', 'destination_id']] = od_data[['origin_id', 'destination_id']].apply(\n",
        "    lambda x: x.map(node_id_mapping))\n",
        "\n",
        "# Data Cleaning\n",
        "od_data['distance [m]'].fillna(0, inplace=True)\n",
        "od_data[['origin_id', 'destination_id']] = od_data[['origin_id', 'destination_id']].astype(int)\n",
        "\n",
        "# Map node IDs in nodes_data\n",
        "nodes_data['tourist_dest_id'] = nodes_data['tourist_dest_id'].map(node_id_mapping)\n",
        "\n",
        "# Display the number of arcs and the node ID mapping\n",
        "print(f\"Number of arcs: {len(od_data)}\")\n",
        "print(f\"Node ID Mapping: {node_id_mapping}\")"
      ]
    },
    {
      "cell_type": "markdown",
      "id": "LxTWQY-1OrqR",
      "metadata": {
        "id": "LxTWQY-1OrqR"
      },
      "source": [
        "# Utility Functions"
      ]
    },
    {
      "cell_type": "code",
      "execution_count": null,
      "id": "jHx0uGSUOqhT",
      "metadata": {
        "id": "jHx0uGSUOqhT"
      },
      "outputs": [],
      "source": [
        "def find_id(mapping, value):\n",
        "    return next((k for k, v in mapping.items() if v == value), None)\n",
        "\n",
        "\n",
        "def rearrange_list(original_list, target_value):\n",
        "    try:\n",
        "        # Find the index of the target value\n",
        "        index_of_target = original_list.index(target_value)\n",
        "\n",
        "        # Create a new list with items after the target value\n",
        "        items_after_target = original_list[index_of_target + 1:]\n",
        "\n",
        "        # Create another list with items before the target value from start, excluding the first one\n",
        "        items_before_target = original_list[:index_of_target][1:]\n",
        "\n",
        "        # Combine the two lists in the desired order\n",
        "        result_list = items_after_target + items_before_target\n",
        "\n",
        "        return result_list\n",
        "\n",
        "    except ValueError:\n",
        "        # Handle the case when the target value is not in the original list\n",
        "        print(f\"{target_value} not found in the original list.\")\n",
        "        return None\n",
        "\n",
        "\n",
        "def decrease_list_length(lst):\n",
        "    return [element - 1 for element in lst]\n",
        "\n",
        "\n",
        "def calculate_total_distance(ordered_path, distance_matrix):\n",
        "    return sum(distance_matrix[ordered_path[i], ordered_path[i + 1]] for i in range(len(ordered_path) - 1))\n",
        "\n",
        "\n",
        "def find_first_node(nodes_data: pd.DataFrame) -> int:\n",
        "    \"\"\"\n",
        "    Finds the first node based on the lowest value of longitude.\n",
        "\n",
        "    Parameters:\n",
        "    - nodes_data (pd.DataFrame): DataFrame containing node data with 'tourist_dest_id', 'x (longitude)', 'y (latitude)', etc.\n",
        "\n",
        "    Returns:\n",
        "    - int: The tourist destination ID of the node with the lowest longitude.\n",
        "    \"\"\"\n",
        "    min_longitude_row = nodes_data.loc[nodes_data['x (longitude)'].idxmin()]\n",
        "    return min_longitude_row['tourist_dest_id']\n",
        "\n",
        "\n",
        "def find_last_node(nodes_data: pd.DataFrame) -> int:\n",
        "    \"\"\"\n",
        "    Finds the last node based on the highest value of longitude.\n",
        "\n",
        "    Parameters:\n",
        "    - nodes_data (pd.DataFrame): DataFrame containing node data with 'tourist_dest_id', 'x (longitude)', 'y (latitude)', etc.\n",
        "\n",
        "    Returns:\n",
        "    - int: The tourist destination ID of the node with the highest longitude.\n",
        "    \"\"\"\n",
        "    max_longitude_row = nodes_data.loc[nodes_data['x (longitude)'].idxmax()]\n",
        "    return max_longitude_row['tourist_dest_id']\n",
        "\n",
        "\n",
        "# Function to calculate the distance between two nodes\n",
        "def nodes_distance(node1: int, node2: int, ordered_path, distance_matrix) -> float:\n",
        "    \"\"\"\n",
        "    Calculates the distance between two nodes.\n",
        "\n",
        "    Parameters:\n",
        "    - node1 (int): The ID of the first node.\n",
        "    - node2 (int): The ID of the second node.\n",
        "\n",
        "    Returns:\n",
        "    - float: The distance between the two nodes.\n",
        "    \"\"\"\n",
        "    index1 = ordered_path.index(node1)\n",
        "    index2 = ordered_path.index(node2)\n",
        "    return sum(distance_matrix[ordered_path[i], ordered_path[i+1]] for i in range(index1, index2))\n",
        "\n",
        "def find_valid_arcs(ordered_path, distance_matrix, max_distance):\n",
        "    valid_arcs = {}\n",
        "\n",
        "    for i, start_node in enumerate(ordered_path):\n",
        "        for next_node in ordered_path[i + 1:]:\n",
        "            distance = nodes_distance(start_node, next_node, ordered_path, distance_matrix)\n",
        "            if(distance <= max_distance):\n",
        "                valid_arcs[(start_node, next_node)] = distance\n",
        "            else: break\n",
        "    return valid_arcs"
      ]
    },
    {
      "cell_type": "code",
      "execution_count": null,
      "id": "XHcgtQ5SRcEn",
      "metadata": {
        "colab": {
          "base_uri": "https://localhost:8080/"
        },
        "id": "XHcgtQ5SRcEn",
        "outputId": "1fcfe9f6-8890-49b6-d535-de391de6862f"
      },
      "outputs": [],
      "source": [
        "def create_distance_matrix(data):\n",
        "    \"\"\"\n",
        "    Create a distance matrix based on origin-destination data.\n",
        "\n",
        "    Parameters:\n",
        "    - data: DataFrame containing origin-destination data with 'origin_id', 'destination_id', and 'distance [m]'\n",
        "\n",
        "    Returns:\n",
        "    - NumPy array representing the distance matrix\n",
        "    \"\"\"\n",
        "\n",
        "    max_origin, max_dest = data['origin_id'].max(), data['destination_id'].max()\n",
        "    distance_matrix = np.zeros((max_origin + 1, max_dest + 1), dtype=float)\n",
        "\n",
        "    for _, row in data.iterrows():\n",
        "        i, j = int(row['origin_id']), int(row['destination_id'])\n",
        "        distance_matrix[i, j] = row['distance [m]']\n",
        "\n",
        "    return distance_matrix\n",
        "\n",
        "\n",
        "distance_matrix = create_distance_matrix(od_data)\n",
        "\n",
        "print(distance_matrix)"
      ]
    },
    {
      "cell_type": "code",
      "execution_count": null,
      "id": "wC-nadrlnp9X",
      "metadata": {
        "colab": {
          "base_uri": "https://localhost:8080/"
        },
        "id": "wC-nadrlnp9X",
        "outputId": "33f1c451-1b15-402f-a3b3-1682bd7c50ec"
      },
      "outputs": [],
      "source": [
        "def add_dummy_node(distance_matrix):\n",
        "    \"\"\"\n",
        "    Add a dummy node with distance 0 to all other nodes in the distance matrix.\n",
        "\n",
        "    Parameters:\n",
        "    - distance_matrix: NumPy array representing the distance matrix\n",
        "\n",
        "    Returns:\n",
        "    - NumPy array representing the distance matrix with the dummy node\n",
        "    \"\"\"\n",
        "\n",
        "    max_origin, max_dest = distance_matrix.shape[0] - 1, distance_matrix.shape[1] - 1\n",
        "    dummy_node_index = max(max_origin, max_dest) + 1\n",
        "\n",
        "    # Create a new matrix with the dummy node\n",
        "    distance_matrix_with_dummy = np.zeros((dummy_node_index + 1, dummy_node_index + 1), dtype=float)\n",
        "\n",
        "    # Copy existing distances to the new matrix\n",
        "    distance_matrix_with_dummy[:max_origin + 1, :max_dest + 1] = distance_matrix\n",
        "\n",
        "    # Set distances from the dummy node to all other nodes to 0\n",
        "    distance_matrix_with_dummy[dummy_node_index, :] = 0\n",
        "    distance_matrix_with_dummy[:, dummy_node_index] = 0\n",
        "\n",
        "    return distance_matrix_with_dummy\n",
        "\n",
        "distance_matrix_with_dummy = add_dummy_node(distance_matrix)\n",
        "\n",
        "print(\"Original Distance Matrix:\")\n",
        "print(distance_matrix)\n",
        "\n",
        "print(\"\\nDistance Matrix with Dummy Node:\")\n",
        "print(distance_matrix_with_dummy)\n"
      ]
    },
    {
      "cell_type": "markdown",
      "id": "QFKOaKjCPgah",
      "metadata": {
        "id": "QFKOaKjCPgah"
      },
      "source": [
        "# Heuristics"
      ]
    },
    {
      "cell_type": "code",
      "execution_count": null,
      "id": "GcDL4Lt8b0z4",
      "metadata": {
        "colab": {
          "base_uri": "https://localhost:8080/"
        },
        "id": "GcDL4Lt8b0z4",
        "outputId": "5256fff6-c218-4057-c277-cedc2127e23d"
      },
      "outputs": [],
      "source": [
        "from pyCombinatorial.algorithm import ant_colony_optimization\n",
        "from pyCombinatorial.utils import util\n",
        "\n",
        "# ACO - Parameters\n",
        "parameters = {\n",
        "              'ants': 15,\n",
        "              'iterations': 5,\n",
        "              'alpha':1,\n",
        "              'beta':2,\n",
        "              'decay':0.05,\n",
        "              'local_search': True,\n",
        "              'verbose': True\n",
        "             }\n",
        "\n",
        "# ACO - Algorithm\n",
        "route, distance = ant_colony_optimization(distance_matrix_with_dummy, **parameters)\n",
        "\n",
        "print(route)\n",
        "rearranged_list = rearrange_list(route, 45)\n",
        "print(rearranged_list)\n",
        "decreased_list = decrease_list_length(rearranged_list)\n",
        "result = calculate_total_distance(decreased_list, distance_matrix_with_dummy)\n",
        "print(f\"{ decreased_list}\")\n",
        "print(f\"cost: {result}\")"
      ]
    },
    {
      "cell_type": "markdown",
      "id": "2JzceP64RaiB",
      "metadata": {
        "id": "2JzceP64RaiB"
      },
      "source": [
        "# Print of the locations as markers in a map"
      ]
    },
    {
      "cell_type": "code",
      "execution_count": null,
      "id": "0e713cd9",
      "metadata": {
        "colab": {
          "base_uri": "https://localhost:8080/",
          "height": 738
        },
        "id": "0e713cd9",
        "outputId": "5ba22b7e-7c34-47ac-f981-fcc3afd5d8b1"
      },
      "outputs": [],
      "source": [
        "\n",
        "def create_folium_map(candidate_sites_coordinates: pd.DataFrame) -> folium.Map:\n",
        "    \"\"\"\n",
        "    Creates a Folium map with markers for candidate sites.\n",
        "\n",
        "    Parameters:\n",
        "    - candidate_sites_coordinates (pd.DataFrame): DataFrame containing candidate sites data with 'y (latitude)', 'x (longitude)',\n",
        "      'Comune', 'Piazza', and 'tourist_dest_id'.\n",
        "    - center (List[float]): List representing the center location of the map [latitude, longitude].\n",
        "\n",
        "    Returns:\n",
        "    - folium.Map: Folium map with CircleMarkers for candidate sites.\n",
        "    \"\"\"\n",
        "    # Calculate the center of the map\n",
        "    center_lat = candidate_sites_coordinates['y (latitude)'].mean()\n",
        "    center_lon = candidate_sites_coordinates['x (longitude)'].mean()\n",
        "    center = [center_lat, center_lon]\n",
        "    print(center)\n",
        "\n",
        "    # Initialize the map\n",
        "    map = folium.Map(location=center, zoom_start=9)\n",
        "\n",
        "    # Add CircleMarkers for each row in candidate_sites_coordinates\n",
        "    for _, row in candidate_sites_coordinates.iterrows():\n",
        "        popup_text = f\"{row['Comune']} - {row['Piazza']}\" if pd.notna(row['Piazza']) else f\"{row['Comune']}\"\n",
        "\n",
        "\n",
        "        folium.CircleMarker(\n",
        "            location=[row['y (latitude)'], row['x (longitude)']],\n",
        "            radius=12,\n",
        "            color='blue',\n",
        "            fill=True,\n",
        "            fill_color='blue',\n",
        "            fill_opacity=0.7,\n",
        "            popup=folium.Popup(popup_text, max_width=300)\n",
        "        ).add_to(map)\n",
        "\n",
        "        # Create text label using DivIcon\n",
        "        folium.map.Marker(\n",
        "            [row['y (latitude)'], row['x (longitude)']],\n",
        "            icon=folium.DivIcon(\n",
        "                html=f\"\"\"<div style=\"color: white; font-size: 8pt; text-align: center\">{row['tourist_dest_id']}</div>\"\"\"\n",
        "            )\n",
        "        ).add_to(map)\n",
        "\n",
        "    return map\n",
        "\n",
        "\n",
        "# Center location\n",
        "#map_center: list[float] = [44.92803444, 10.52108953]\n",
        "\n",
        "# Create Folium map with the specified center\n",
        "nodes_map: folium.Map = create_folium_map(candidate_sites_coordinates=nodes_data)\n",
        "\n",
        "# Create a Figure and add the Folium map to it\n",
        "fig: Figure = Figure(width=1000, height=700)\n",
        "fig.add_child(nodes_map)\n",
        "\n",
        "# Display the Figure\n",
        "fig"
      ]
    },
    {
      "cell_type": "markdown",
      "id": "bd68ca36",
      "metadata": {
        "id": "bd68ca36"
      },
      "source": [
        "## Shortest path -> Graph\n",
        "This algorithm is used to find the shortest path between two nodes (head, tail). In this case:\n",
        "- Head: 0\n",
        "- Tail: 20 (52 in the original OD file) -> selected because is the furthest from 0 if we look at the path (this selection of the node could be automatized)"
      ]
    },
    {
      "cell_type": "markdown",
      "id": "RvZJVai2SI34",
      "metadata": {
        "id": "RvZJVai2SI34"
      },
      "source": [
        "# TSP"
      ]
    },
    {
      "cell_type": "code",
      "execution_count": null,
      "id": "1a3iU1X-TVhm",
      "metadata": {
        "id": "1a3iU1X-TVhm"
      },
      "outputs": [],
      "source": [
        "import mip\n",
        "\n",
        "def solve_tsp_with_mip(nodes_data, distance_matrix):\n",
        "    \"\"\"\n",
        "    Solve the Traveling Salesman Problem (TSP) using the MIP model.\n",
        "\n",
        "    Parameters:\n",
        "    - nodes_data: DataFrame containing information about nodes\n",
        "    - distance_matrix: NumPy array representing the distance matrix\n",
        "\n",
        "    Returns:\n",
        "    - Tuple containing the model, solution path, ordered path, and total distance\n",
        "    \"\"\"\n",
        "\n",
        "    n = len(nodes_data)\n",
        "\n",
        "    # Create model\n",
        "    m = mip.Model()\n",
        "\n",
        "    # Define the variables\n",
        "    x = [[m.add_var(var_type=mip.BINARY) for j in range(n)] for i in range(n)]\n",
        "\n",
        "    # Define the constraints\n",
        "    first_node = find_first_node(nodes_data)\n",
        "    last_node = find_last_node(nodes_data)\n",
        "\n",
        "    # Constraints on the number of ingoing/outgoing arcs\n",
        "    for i in range(n):\n",
        "        # No self-loops\n",
        "        m += x[i][i] == 0\n",
        "\n",
        "        outgoing_arcs = mip.xsum(x[i][j] for j in range(n) if i != j)\n",
        "        incoming_arcs = mip.xsum(x[j][i] for j in range(n) if i != j)\n",
        "\n",
        "        # If it is the last node, should not have outgoing arcs. Otherwise, should have one\n",
        "        m += outgoing_arcs == 0 if i == last_node else outgoing_arcs == 1\n",
        "        # If it is the first node, should not have incoming arcs. Otherwise, should have one\n",
        "        m += incoming_arcs == 0 if i == first_node else incoming_arcs == 1\n",
        "\n",
        "    # Sub-tour elimination\n",
        "    u = [m.add_var() for i in range(n)]\n",
        "    for i in range(1, n):\n",
        "        for j in range(1, n):\n",
        "            if i != j:\n",
        "                m += u[i] - u[j] + (n - 1) * x[i][j] <= n - 2\n",
        "\n",
        "    # Optimize the objective function\n",
        "    m.objective = mip.minimize(mip.xsum(distance_matrix[i][j] * x[i][j] for i in range(n) for j in range(n)))\n",
        "\n",
        "    m.optimize()\n",
        "\n",
        "\n",
        "    return m, x\n",
        "\n",
        "model, x = solve_tsp_with_mip(nodes_data, distance_matrix)"
      ]
    },
    {
      "cell_type": "code",
      "execution_count": null,
      "id": "y15LXB5mTjyN",
      "metadata": {
        "colab": {
          "base_uri": "https://localhost:8080/"
        },
        "id": "y15LXB5mTjyN",
        "outputId": "c9b2d58b-7ac3-48ab-a667-dc353101fec3"
      },
      "outputs": [],
      "source": [
        "def extract_tsp_solution(model, x, nodes_data, distance_matrix):\n",
        "    \"\"\"\n",
        "    Extract the solution path, ordered path, and total distance from the TSP MIP model.\n",
        "\n",
        "    Parameters:\n",
        "    - model: The MIP model object after optimization\n",
        "    - x: Variable matrix from the model\n",
        "    - nodes_data: DataFrame containing information about nodes\n",
        "    - distance_matrix: NumPy array representing the distance matrix\n",
        "\n",
        "    Returns:\n",
        "    - Tuple containing the solution path, ordered path, and total distance\n",
        "    \"\"\"\n",
        "\n",
        "    n = len(nodes_data)\n",
        "\n",
        "    # Extract the solution path\n",
        "    solution_path = [(i, j) for i in range(n) for j in range(n) if x[i][j].x > 0.5]\n",
        "\n",
        "    # Extract the ordered path\n",
        "    first_node = find_first_node(nodes_data)\n",
        "    last_node = find_last_node(nodes_data)\n",
        "    current_node = first_node\n",
        "    ordered_path = [current_node]\n",
        "\n",
        "    while current_node != last_node:\n",
        "        current_node = next(j for j in range(n) if x[current_node][j].x >= 0.99)\n",
        "        ordered_path.append(current_node)\n",
        "\n",
        "    # Calculate total distance\n",
        "    total_distance = nodes_distance(first_node, last_node, ordered_path, distance_matrix)\n",
        "\n",
        "    return solution_path, ordered_path, total_distance\n",
        "\n",
        "# Example usage\n",
        "solution_path, ordered_path, total_distance = extract_tsp_solution(model, x, nodes_data, distance_matrix)\n",
        "\n",
        "print(\"Optimal path:\", solution_path)\n",
        "print(\"Ordered path:\", ordered_path)\n",
        "print(\"Total distance:\", total_distance)\n"
      ]
    },
    {
      "cell_type": "markdown",
      "id": "K3HoUftjSUxI",
      "metadata": {
        "id": "K3HoUftjSUxI"
      },
      "source": [
        "# Real graph"
      ]
    },
    {
      "cell_type": "code",
      "execution_count": null,
      "id": "74f84b32",
      "metadata": {
        "colab": {
          "base_uri": "https://localhost:8080/",
          "height": 516
        },
        "id": "74f84b32",
        "outputId": "23bc5dad-194a-47e5-c57f-e183137aa99b"
      },
      "outputs": [],
      "source": [
        "G = nx.DiGraph()\n",
        "\n",
        "# Add nodes\n",
        "G.add_nodes_from(nodes_data.apply(lambda row: (\n",
        "    row[\"tourist_dest_id\"],\n",
        "    {\"pos\": (row[\"x (longitude)\"], row[\"y (latitude)\"]), \"label\": f\"{row['Comune']} - {row['Piazza']}\"}\n",
        "), axis=1).tolist())\n",
        "\n",
        "\n",
        "\n",
        "# Add edges for the optimal path\n",
        "G.add_edges_from([(origin, destination, {\"distance\": distance_matrix[origin][destination]}) for origin, destination in solution_path])\n",
        "\n",
        "# plt.figure(figsize=(15, 15))\n",
        "\n",
        "# Draw the graph\n",
        "pos = nx.get_node_attributes(G, \"pos\")\n",
        "nx.draw(G, pos, with_labels=True, node_size=500, font_size=8, font_color=\"black\", font_weight=\"bold\",\n",
        "        node_color=\"skyblue\", edge_color=\"gray\", arrowsize=10)\n",
        "\n",
        "plt.show()"
      ]
    },
    {
      "cell_type": "markdown",
      "id": "e1YSLjwrScS5",
      "metadata": {
        "id": "e1YSLjwrScS5"
      },
      "source": [
        "#  Equivalent Graph"
      ]
    },
    {
      "cell_type": "code",
      "execution_count": null,
      "id": "f481a1ff",
      "metadata": {
        "colab": {
          "base_uri": "https://localhost:8080/",
          "height": 991
        },
        "id": "f481a1ff",
        "outputId": "dc41a9cd-5b0f-4845-e158-8522827ff9dd"
      },
      "outputs": [],
      "source": [
        "valid_arcs_dict = {}\n",
        "\n",
        "for i, start_node in enumerate(ordered_path):\n",
        "    for next_node in ordered_path[i + 1:]:\n",
        "        distance = nodes_distance(start_node, next_node, ordered_path, distance_matrix)\n",
        "        if(distance <= max_distance):\n",
        "            if not G.has_edge(start_node, next_node):\n",
        "                G.add_edge(start_node, next_node, distance=distance)\n",
        "                valid_arcs_dict[(start_node, next_node)] = distance\n",
        "        else: break\n",
        "\n",
        "\n",
        "# Create a list of edges for the original path\n",
        "original_path_edges = [(ordered_path[i], ordered_path[i + 1]) for i in range(len(ordered_path) - 1)]\n",
        "\n",
        "# Visualization\n",
        "plt.figure(figsize=(13, 9))\n",
        "\n",
        "# Draw the equivalent graph with all connections\n",
        "nx.draw(G, pos, with_labels=True, node_size=500, font_size=10, font_color=\"black\", font_weight=\"bold\",\n",
        "        node_color=\"skyblue\", edge_color=\"gray\", arrowsize=20)\n",
        "\n",
        "# Highlight the real path in red\n",
        "nx.draw_networkx_edges(G, pos, edgelist=original_path_edges, edge_color='red', width=2)\n",
        "\n",
        "plt.show()"
      ]
    },
    {
      "cell_type": "code",
      "execution_count": null,
      "id": "LYHwM3vLJzDj",
      "metadata": {
        "colab": {
          "base_uri": "https://localhost:8080/"
        },
        "id": "LYHwM3vLJzDj",
        "outputId": "c944f9fc-41f3-4250-9aa0-1f60ebee8264"
      },
      "outputs": [],
      "source": [
        "from mip import OptimizationStatus\n",
        "def solve_installation(nodes_data, ordered_path, budget, distance_matrix, max_distance):\n",
        "    \"\"\"\n",
        "    Solve the installation problem with given data.\n",
        "\n",
        "    Parameters:\n",
        "    - nodes_data: DataFrame containing information about nodes\n",
        "    - ordered_path: List representing the order of nodes\n",
        "    - budget: Total budget for the installation\n",
        "    - distance_matrix: Matrix containing distances between nodes\n",
        "    - max_distance: Maximum distance allowed for valid arcs\n",
        "\n",
        "    Returns:\n",
        "    - Tuple containing the model, solution, and objective value\n",
        "    \"\"\"\n",
        "\n",
        "    valid_arcs = find_valid_arcs(ordered_path, distance_matrix, max_distance)\n",
        "\n",
        "    # Create model\n",
        "    m = mip.Model()\n",
        "\n",
        "    # define the variables\n",
        "    y = {(i, j): m.add_var(var_type=mip.BINARY, name=f\"y{ordered_path[i]}_{ordered_path[j]}___{i}_{j}\") for (i, j) in valid_arcs.keys()}\n",
        "    #  define the constraints\n",
        "    first_node = find_first_node(nodes_data)\n",
        "    last_node = find_last_node(nodes_data)\n",
        "    # 1. Budget Constraint\n",
        "\n",
        "    budget += nodes_data.loc[first_node, 'Cost_of_installation [euro]']\n",
        "    m += mip.xsum(nodes_data.loc[i, 'Cost_of_installation [euro]'] * y[i, j] for (i, j) in valid_arcs.keys()) <= budget\n",
        "\n",
        "    # Dummy Variable constraint\n",
        "    z = m.add_var(lb=0.0, var_type=mip.CONTINUOUS, name='max_distance')\n",
        "    # Now, add a constraint to ensure that z is greater than or equal to each d_ij * y_ij\n",
        "    for i, j in valid_arcs.keys():\n",
        "        m += valid_arcs[i, j] - 10**8 * (1 - y[i, j]) <= z\n",
        "\n",
        "    # Flow Conservation Constraints\n",
        "    b = {i: 0 for i in nodes_data.index}\n",
        "    b[first_node] = 1       # Start node (s)\n",
        "    b[last_node] = -1  # Final node (t)\n",
        "\n",
        "    for i in nodes_data.index:\n",
        "        m.add_constr(mip.xsum(y[i, j] for j in nodes_data.index if (i, j) in valid_arcs.keys()) -\n",
        "                      mip.xsum(y[j, i] for j in nodes_data.index if (j, i) in valid_arcs.keys()) ==\n",
        "                      b[i])\n",
        "\n",
        "    # optimize objective function\n",
        "    m.objective = mip.minimize(z)\n",
        "\n",
        "    m.optimize()\n",
        "\n",
        "    if m.status == OptimizationStatus.OPTIMAL:\n",
        "\n",
        "        y_values = {(i, j): y[i, j].x for (i, j) in valid_arcs.keys()}\n",
        "\n",
        "        # Identify charging stations and calculate distances\n",
        "        charging_stations = set()\n",
        "        distance_between_charging_stations = []\n",
        "\n",
        "        for (i, j), value in y_values.items():\n",
        "            if value > 0.5:\n",
        "                distance_between_charging_stations.append(nodes_distance(i, j, ordered_path, distance_matrix))\n",
        "                charging_stations.update({i, j})\n",
        "\n",
        "        # Return a tuple containing model, solution, and objective value\n",
        "        return m, charging_stations, distance_between_charging_stations, m.objective_value\n",
        "    else:\n",
        "        return m, None, None, m.objective_value\n"
      ]
    },
    {
      "cell_type": "code",
      "execution_count": null,
      "id": "927e846b",
      "metadata": {},
      "outputs": [],
      "source": [
        "def print_solution_problem(budget, first_node, last_node, nodes_data, ordered_path, distance_matrix, objective, m, cs, distance_between_cp):\n",
        "\n",
        "\n",
        "    if(m.status == OptimizationStatus.OPTIMAL):\n",
        "        print(\"---------------- Optimal solution found ----------------\")\n",
        "        print(f\"Minimum maximum distance between charging stations: {objective:,.2f}\")\n",
        "        print(f\"Selected charging stations: {cs}\")\n",
        "\n",
        "        print(\"Distance between charging stations:\", distance_between_cp)\n",
        "        print(f\"Total length path: {nodes_distance(0, 20, ordered_path, distance_matrix)}\")\n",
        "\n",
        "\n",
        "        # Calculate budget used\n",
        "        budget_used = sum(nodes_data.loc[i, 'Cost_of_installation [euro]'] for i in cs if i != first_node and i != last_node)\n",
        "        print(f\"Total budget: {budget}, Budget used: {budget_used}\")\n",
        "        return\n",
        "    else:\n",
        "        print(\"No solution found\")"
      ]
    },
    {
      "cell_type": "code",
      "execution_count": null,
      "id": "70e7aad2",
      "metadata": {},
      "outputs": [],
      "source": [
        "# the budget is set in the previous cells but here it is possible to change it\n",
        "execution_budget = budget\n",
        "\n",
        "m, charging_stations, distance_between_cp, objective = solve_installation(nodes_data, ordered_path,\n",
        "                                                execution_budget, distance_matrix,\n",
        "                                                max_distance)\n",
        "print_solution_problem(execution_budget, find_first_node(nodes_data), find_last_node(nodes_data), nodes_data, ordered_path, distance_matrix, objective, m, charging_stations, distance_between_cp)"
      ]
    },
    {
      "cell_type": "code",
      "execution_count": null,
      "id": "be6cd29d",
      "metadata": {},
      "outputs": [],
      "source": [
        "if(m.num_solutions > 0):\n",
        "    G = nx.DiGraph()\n",
        "\n",
        "    # Add nodes\n",
        "    G.add_nodes_from(nodes_data.apply(lambda row: (\n",
        "        row[\"tourist_dest_id\"],\n",
        "        {\"pos\": (row[\"x (longitude)\"], row[\"y (latitude)\"]), \"label\": f\"{row['Comune']} - {row['Piazza']}\"}\n",
        "    ), axis=1).tolist())\n",
        "\n",
        "    # rebuild the equivalent graph with all connections\n",
        "    for i, start_node in enumerate(ordered_path):\n",
        "        for next_node in ordered_path[i + 1:]:\n",
        "            distance = nodes_distance(start_node, next_node, ordered_path, distance_matrix)\n",
        "            if(distance <= max_distance):\n",
        "                if not G.has_edge(start_node, next_node):\n",
        "                    G.add_edge(start_node, next_node, distance=distance)\n",
        "                    valid_arcs_dict[(start_node, next_node)] = distance\n",
        "            else: break\n",
        "\n",
        "    # Create a list of edges for the original path\n",
        "    original_path_edges = [(ordered_path[i], ordered_path[i + 1]) for i in range(len(ordered_path) - 1)]\n",
        "\n",
        "    # Visualization\n",
        "    plt.figure(figsize=(13, 9))\n",
        "    nx.draw(G, pos, with_labels=True, node_color='skyblue', node_size=500, edge_color='gray', arrowsize=20)\n",
        "\n",
        "    # Highlight nodes with charging stations\n",
        "    nx.draw_networkx_nodes(G, pos, nodelist=charging_stations, node_color='green', node_size=500)\n",
        "\n",
        "    # Highlight the original path in red\n",
        "    nx.draw_networkx_edges(G, pos, edgelist=original_path_edges, edge_color='red', width=2)\n",
        "\n",
        "    plt.show()\n",
        "else:\n",
        "    print(\"No solution found\")"
      ]
    },
    {
      "cell_type": "code",
      "execution_count": null,
      "id": "49df1216",
      "metadata": {},
      "outputs": [],
      "source": [
        "import folium\n",
        "from branca.element import Figure\n",
        "\n",
        "\n",
        "def get_coordinates(tourist_dest_id: int) -> tuple[float, float]:\n",
        "    return nodes_data.loc[tourist_dest_id, 'y (latitude)'], nodes_data.loc[tourist_dest_id, 'x (longitude)']\n",
        "\n",
        "def create_folium_map(candidate_sites_coordinates: pd.DataFrame, center: list[float]) -> folium.Map:\n",
        "\n",
        "    # Initialize the map\n",
        "    map = folium.Map(location=center, zoom_start=10)\n",
        "\n",
        "    # Add CircleMarkers for each row in candidate_sites_coordinates\n",
        "    for _, row in candidate_sites_coordinates.iterrows():\n",
        "        popup_text = f\"{row['Comune']} - {row['Piazza']}\" if pd.notna(row['Piazza']) else f\"{row['Comune']}\"\n",
        "\n",
        "\n",
        "\n",
        "        # Create markers for charging stations\n",
        "\n",
        "        if(row['tourist_dest_id'] in charging_stations):\n",
        "            folium.CircleMarker(\n",
        "            location=[row['y (latitude)'], row['x (longitude)']],\n",
        "            radius=12,\n",
        "            color='green',\n",
        "            fill=True,\n",
        "            fill_color='green',\n",
        "            fill_opacity=0.7,\n",
        "            popup=folium.Popup(popup_text, max_width=300),\n",
        "            tooltip=f\"id: {row['tourist_dest_id']} real id: {find_id(node_id_mapping, row['tourist_dest_id'])}\"\n",
        "            ).add_to(map)\n",
        "\n",
        "            # Create text label using DivIcon\n",
        "            folium.map.Marker(\n",
        "                [row['y (latitude)'], row['x (longitude)']],\n",
        "                icon=folium.DivIcon(\n",
        "                    html=f\"\"\"<div style=\"color: white; font-size: 8pt; font-weight: 900; text-align: center\">{row['tourist_dest_id']}</div>\"\"\"\n",
        "                )\n",
        "            ).add_to(map)\n",
        "        else:\n",
        "            folium.CircleMarker(\n",
        "            location=[row['y (latitude)'], row['x (longitude)']],\n",
        "            radius=5,\n",
        "            color='black',\n",
        "            fill=True,\n",
        "            fill_color='black',\n",
        "            fill_opacity=0.7,\n",
        "            popup=folium.Popup(popup_text, max_width=300),\n",
        "            tooltip=f\"id: {row['tourist_dest_id']} real id: {find_id(node_id_mapping, row['tourist_dest_id'])}\"\n",
        "        ).add_to(map)\n",
        "\n",
        "\n",
        "    charging_stations_ordered = [node for node in ordered_path if node in charging_stations]\n",
        "\n",
        "    # Draw the segments with alternating colors\n",
        "    color = \"orange\"  # Start with green\n",
        "    for i in range(len(charging_stations_ordered) - 1):\n",
        "        start_station = charging_stations_ordered[i]\n",
        "        end_station = charging_stations_ordered[i + 1]\n",
        "        start_index = ordered_path.index(start_station)\n",
        "        end_index = ordered_path.index(end_station)\n",
        "\n",
        "        # Get the sub-path\n",
        "        sub_path = ordered_path[start_index:end_index + 1]\n",
        "        sub_path_coords = [get_coordinates(node) for node in sub_path]\n",
        "\n",
        "        # Draw the sub-path\n",
        "        folium.PolyLine(sub_path_coords, color=color, weight=5, popup=f'Distance: {nodes_distance(start_station, end_station, ordered_path, distance_matrix)} meters').add_to(map)\n",
        "\n",
        "        # Alternate the color\n",
        "        color = \"blue\" if color == \"orange\" else \"orange\"\n",
        "\n",
        "    return map\n",
        "\n",
        "\n",
        "# Center location\n",
        "map_center: list[float] = [45.01896682, 10.29449607]\n",
        "\n",
        "# Create Folium map with the specified center\n",
        "nodes_map: folium.Map = create_folium_map(candidate_sites_coordinates=nodes_data, center=map_center)\n",
        "\n",
        "# Create a Figure and add the Folium map to it\n",
        "fig: Figure = Figure(width=1000, height=700)\n",
        "fig.add_child(nodes_map)\n",
        "\n",
        "# Display the Figure\n",
        "fig"
      ]
    },
    {
      "cell_type": "code",
      "execution_count": null,
      "id": "VGKKRgfJLS1u",
      "metadata": {
        "colab": {
          "base_uri": "https://localhost:8080/"
        },
        "id": "VGKKRgfJLS1u",
        "outputId": "43df397a-a762-47f3-aaa0-987bb04813a4"
      },
      "outputs": [],
      "source": [
        "b_list = [6_524, 6_525, 10_000, 25_000, 26_000, 28_000, 28_498]\n",
        "for b in b_list:\n",
        "  _, charging_stations, _, objective = solve_installation(nodes_data, ordered_path,\n",
        "                                            b, distance_matrix,\n",
        "                                            max_distance)\n",
        "  if(objective != None):\n",
        "    print(f\"Budget: {b:10.2f} | Objective: {objective:10.2f} | Charging Stations: {charging_stations}\")\n",
        "  else:\n",
        "    print(f\"Budget  {b:10.2f} | No solution found\")"
      ]
    },
    {
      "cell_type": "code",
      "execution_count": null,
      "id": "OWlSonWwepSZ",
      "metadata": {
        "colab": {
          "base_uri": "https://localhost:8080/"
        },
        "id": "OWlSonWwepSZ",
        "outputId": "a3b20b25-06e1-4756-d86b-885d6302de35"
      },
      "outputs": [],
      "source": [
        "budget_value = 10_000\n",
        "max_distance = 50_000  # Replace with your actual max_distance\n",
        "m, charging_stations, _, objective = solve_installation(nodes_data, ordered_path,\n",
        "                                            budget_value, distance_matrix,\n",
        "                                            max_distance)\n",
        "\n",
        "print(\"Solution:\", charging_stations)\n",
        "print(\"Objective: {0:10.2f}\".format(objective))\n",
        "\n",
        "budget_value_2 = budget_value * 1.1\n",
        "\n",
        "m2, charging_stations2, _, objective2 = solve_installation(nodes_data, ordered_path,\n",
        "                                            budget_value_2, distance_matrix,\n",
        "                                            max_distance)\n",
        "print(\"Solution:\", charging_stations2)\n",
        "print(f\"Objective: {objective2}, increase: {((objective2 - objective) / objective) * 100: 6.2f}%\")"
      ]
    },
    {
      "cell_type": "code",
      "execution_count": null,
      "id": "62820f7d",
      "metadata": {},
      "outputs": [],
      "source": [
        "from mip import OptimizationStatus\n",
        "def find_lowest_feasible_budget_recursive(low, high):\n",
        "    if low >= high:\n",
        "        m,_,_,distance = solve_installation(nodes_data, ordered_path, low, distance_matrix, max_distance)\n",
        "        return (low, distance) if m.status == OptimizationStatus.OPTIMAL else None\n",
        "\n",
        "    mid = (low + high) // 2\n",
        "    m,_,_,objective = solve_installation(nodes_data, ordered_path, mid, distance_matrix, max_distance)\n",
        "\n",
        "    if m.status == OptimizationStatus.INFEASIBLE:  # Infeasible at this budget, go higher\n",
        "        return find_lowest_feasible_budget_recursive(mid + 1, high)\n",
        "    else:  # Feasible at this budget, try to find a lower feasible budget\n",
        "        return find_lowest_feasible_budget_recursive(low, mid)\n",
        "\n",
        "\n",
        "# Initialize with the first known feasible budget and distance\n",
        "initial_budget, initial_distance = find_lowest_feasible_budget_recursive(0, 10000)\n",
        "if initial_distance is not None:\n",
        "        print(f\"The lowest feasible budget is: {initial_budget} with a distance of {initial_distance}\")\n",
        "else:\n",
        "        print(\"Unable to find a feasible budget within the given range.\")"
      ]
    },
    {
      "cell_type": "code",
      "execution_count": null,
      "id": "6Hs3dZ7DfYa_",
      "metadata": {
        "colab": {
          "base_uri": "https://localhost:8080/"
        },
        "id": "6Hs3dZ7DfYa_",
        "outputId": "b429e4f8-ef52-4a3a-dc07-d4fe53758f5b"
      },
      "outputs": [],
      "source": [
        "from prettytable import PrettyTable\n",
        "\n",
        "def print_results_table(steps):\n",
        "    # Create a table with headers\n",
        "    table = PrettyTable()\n",
        "    table.field_names = [\"Budget\", \"Nodes\", \"Distance\"]\n",
        "\n",
        "    # Fill the table with data\n",
        "    for budget, distance, nodes in steps:\n",
        "        # Convert list of nodes to a string\n",
        "        nodes_str = ', '.join(str(node) for node in nodes)\n",
        "        # Add row to the table\n",
        "        table.add_row([budget, nodes_str, f\"{distance:.2f} m\"])\n",
        "    \n",
        "    print(table)\n",
        "\n",
        "budget_value2 = initial_budget\n",
        "results = []\n",
        "while budget_value2 < 30000:\n",
        "  m2, charging_stations2,_,objective2 = solve_installation(nodes_data, ordered_path,\n",
        "                                            budget_value2, distance_matrix,\n",
        "                                            max_distance)\n",
        "  results.append((budget_value2, objective2, charging_stations2))\n",
        "  budget_value2 += 500\n",
        "# Call the function with your steps data\n",
        "print_results_table(results)"
      ]
    },
    {
      "cell_type": "code",
      "execution_count": null,
      "id": "rzpqnzLqY6eP",
      "metadata": {
        "colab": {
          "base_uri": "https://localhost:8080/"
        },
        "id": "rzpqnzLqY6eP",
        "outputId": "c8c84626-87ec-45a8-eaae-6b3f694d1ad7"
      },
      "outputs": [],
      "source": [
        "ending_time = datetime.datetime.now()\n",
        "print(ending_time - starting_time)"
      ]
    }
  ],
  "metadata": {
    "colab": {
      "provenance": []
    },
    "kernelspec": {
      "display_name": "Python 3",
      "name": "python3"
    },
    "language_info": {
      "codemirror_mode": {
        "name": "ipython",
        "version": 3
      },
      "file_extension": ".py",
      "mimetype": "text/x-python",
      "name": "python",
      "nbconvert_exporter": "python",
      "pygments_lexer": "ipython3",
      "version": "3.9.7"
    }
  },
  "nbformat": 4,
  "nbformat_minor": 5
}
