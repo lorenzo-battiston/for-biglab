{
 "cells": [
  {
   "cell_type": "markdown",
   "id": "4197923e",
   "metadata": {
    "id": "k435Psgdexbb"
   },
   "source": [
    "# Big project activity"
   ]
  },
  {
   "cell_type": "markdown",
   "id": "k435Psgdexbb",
   "metadata": {
    "id": "k435Psgdexbb"
   },
   "source": [
    "## Optimal charging station location"
   ]
  },
  {
   "cell_type": "markdown",
   "id": "71e8cba3",
   "metadata": {
    "id": "71e8cba3"
   },
   "source": [
    "### 1.Introduction\n",
    "\n",
    "Consider a long linear cycle path as Vento, or the Danube cycle path. The cycle path usually runs along the banks of a river with scarce tourist interest. However, from the main course of the cycle path, it is possible to reach places of tourist interest in making small detours.  \n",
    "\n",
    "The rapid growth of e-bike ridership is proposing the problem of deploying a suitable charging infrastructure. The charging stations should be placed in strategic positions so as to guarantee a coverage of the whole cycle path. However, since the charging operations require a non-negligible time, the charging station should be positioned in places where alternative activities could be carried out, as restaurants, museums, swimming pool, or other amenities. Moreover, the presence of a charging station could also induce e-cyclists to discover new places and generate positive externalities.\n",
    "\n"
   ]
  },
  {
   "cell_type": "markdown",
   "id": "F5J-AOngfJfC",
   "metadata": {
    "id": "F5J-AOngfJfC"
   },
   "source": [
    "### 2.Decision problem\n",
    "We can represent the cycle path as a graph where the set of nodes $H = \\{1,\\ldots, n\\}$ corresponds to the tourist sites that may host a charging station.\n",
    "In addition, we are given the distances between touristic sites ($d_{ij},$ with $ i,j =1,\\ldots,n$). Let $c_i$ be the cost of installing a charging station in site $i, i=1\\ldots, n$.\n",
    "\n",
    "\n",
    "The problem is, given a budget $b$, determine the subset of sites $S\\subseteq H$ where to install the charging stations so that the total cost is not higher than $b$ and the maximum distance between consecutive charging stations is minimized.\n",
    "Consider that the cyclist has to visit all the touristic destinations in a consecutive way.\n",
    "\n"
   ]
  },
  {
   "cell_type": "markdown",
   "id": "6f1SzgfSfXlb",
   "metadata": {
    "id": "6f1SzgfSfXlb"
   },
   "source": [
    "### 3.Problem characteristics\n",
    "There are 2 csv files that contain the information of the cycle way, they are essential to build the equivalent graph:\n",
    "\n",
    "\n",
    "*    in the \"nodes.csv\" file, there are all the destinations that the cyclist can reach, with their spatial coordinates and the value of installation costs related to that destination. Consider that the \"tourist-dest-id\" is not the graph node number, but it is a unique id to identify the destination.\n",
    "*   in the \"OD.csv\" you can find all the arcs between two different nodes, keep attention that the condition of visiting consecutive touristic destination must be respected.\n",
    "\n",
    "The set of nodes $N$ is defined by $\\{0,1,\\ldots,n, n+1\\}$.  The Arcs $A$ correspond to the portion of cycle path between two consecutive charging stations. We assume that potentially e-riders will visit all sites along the way, making the suitable deviations and going back to the main path at the initial point of the detour.\n",
    "The cost associated with each arc $(i,j)$ is given by $c_j$, thus the cost of installing a charging station in $j$. These costs are defined for all arcs in $A$, while they are set to 0 for all the arcs that arrive in the last node.\n",
    "The path starts in node $s = 0$ and ends in node $t = n+1$, these two nodes are connected to the nearest touristic site with an arc of null length.\n",
    "\n",
    "### 4.Example of a linear path with deviation\n",
    "![picture](https://drive.google.com/uc?export=view&id=1w16bHtbu0FGGL-UntxeqxD7244D3eHbJ)"
   ]
  },
  {
   "cell_type": "code",
   "execution_count": null,
   "outputs": [],
   "source": [],
   "metadata": {
    "collapsed": false
   },
   "id": "6cd0b7cb62b273e2"
  },
  {
   "cell_type": "markdown",
   "id": "C3mv0MBqf-7F",
   "metadata": {
    "id": "C3mv0MBqf-7F"
   },
   "source": [
    "### 5.Requirements\n",
    "The requirements of the problem are:\n",
    "\n",
    "\n",
    "*   the maximum running time of the algorithm must be 5 minutes, so set the proper timer\n",
    "*   create the equivalent graph and display it on a xy-plot\n",
    "*   find the solution for the basic scenario, with a mip model, displaying the solution with a xy-plot, the budget constraint is $b = 10000\\ € $.\n",
    "*   Find the optimal solution for 5 different values of budget in the range $[10000, 100000]$. Select the values of the budget so as to have different charger locations.\n",
    "\n",
    "  You have to motivate your choice and the solution you get. They can also be not common solution if they are well motivated. To support your decision and explanations, you can print plots or tables. You can also compare different scenarios.\n",
    "\n",
    "\n",
    "   \n",
    "If you have some doubts related to the parametric analysis, prof. Cubillos uploaded a notebook with the solution on WeBeeP and you can have a look there."
   ]
  },
  {
   "cell_type": "markdown",
   "id": "83391c72",
   "metadata": {},
   "source": [
    "### Insert student name and student ID\n",
    "\n",
    "student1:\n",
    "\n",
    "ID1:\n",
    "\n",
    "student2:\n",
    "\n",
    "ID2:\n",
    "\n",
    "student3\n",
    "\n",
    "ID3:\n",
    "\n"
   ]
  },
  {
   "cell_type": "code",
   "execution_count": null,
   "id": "1Wtgd9v5j6QG",
   "metadata": {
    "id": "1Wtgd9v5j6QG"
   },
   "outputs": [],
   "source": [
    "#install libraries\n",
    "\n",
    "!pip install mip\n",
    "!pip install --upgrade cffi==1.15.0"
   ]
  },
  {
   "cell_type": "code",
   "execution_count": null,
   "id": "6ac6b084",
   "metadata": {
    "id": "6ac6b084"
   },
   "outputs": [],
   "source": [
    "#import libraries\n",
    "\n",
    "import importlib\n",
    "import cffi\n",
    "importlib.reload(cffi)\n",
    "import numpy as np\n",
    "import math\n",
    "import networkx as nx\n",
    "import matplotlib as pl"
   ]
  },
  {
   "cell_type": "code",
   "execution_count": null,
   "id": "Sy8XNds0ieqh",
   "metadata": {
    "id": "Sy8XNds0ieqh"
   },
   "outputs": [],
   "source": [
    "#import the csv file\n",
    "\n",
    "#TO DO\n",
    "\n"
   ]
  },
  {
   "cell_type": "code",
   "execution_count": null,
   "id": "kUQ0SWZmk_PS",
   "metadata": {
    "id": "kUQ0SWZmk_PS"
   },
   "outputs": [],
   "source": [
    "#set the timer\n",
    "\n",
    "#TO DO"
   ]
  },
  {
   "cell_type": "code",
   "execution_count": null,
   "id": "NAk7cwB25Ukr",
   "metadata": {
    "id": "NAk7cwB25Ukr"
   },
   "outputs": [],
   "source": [
    "#build the equivalent graph\n",
    "\n",
    "#define the set of nodes\n",
    "\n",
    "# TO DO\n",
    "\n",
    "\n",
    "\n",
    "#define the set of edges\n",
    "\n",
    "# TO DO\n",
    "\n",
    "\n",
    "#plot the graph\n",
    "\n",
    "#TO DO\n",
    "\n"
   ]
  },
  {
   "cell_type": "code",
   "execution_count": null,
   "id": "F29pxMjAT7n5",
   "metadata": {
    "id": "F29pxMjAT7n5"
   },
   "outputs": [],
   "source": [
    "import mip\n",
    "# Create model\n",
    "m = mip.Model()\n",
    "\n",
    "\n",
    "# define the variables\n",
    "\n",
    "# TO DO\n",
    "\n",
    "\n",
    "#  define the constraints\n",
    "\n",
    "\n",
    "# TO DO\n",
    "\n",
    "\n",
    "# optimize objective function\n",
    "\n",
    "# TO DO\n",
    "\n",
    "\n",
    "m.optimize()"
   ]
  },
  {
   "cell_type": "code",
   "execution_count": null,
   "id": "tf36urfdmSM0",
   "metadata": {
    "id": "tf36urfdmSM0"
   },
   "outputs": [],
   "source": [
    "print(m.objective_value)"
   ]
  },
  {
   "cell_type": "code",
   "execution_count": null,
   "id": "t0HUue7slLVH",
   "metadata": {
    "id": "t0HUue7slLVH"
   },
   "outputs": [],
   "source": [
    "#plot the graph\n",
    "\n",
    "#TO DO"
   ]
  },
  {
   "cell_type": "code",
   "execution_count": null,
   "id": "U9zSeGbJkZ9t",
   "metadata": {
    "id": "U9zSeGbJkZ9t"
   },
   "outputs": [],
   "source": [
    "# parametric analysis\n",
    "\n",
    "\n",
    "\n",
    "#TO DO\n",
    "\n",
    "\n",
    "\n"
   ]
  }
 ],
 "metadata": {
  "colab": {
   "provenance": []
  },
  "kernelspec": {
   "display_name": "Python 3 (ipykernel)",
   "language": "python",
   "name": "python3"
  },
  "language_info": {
   "codemirror_mode": {
    "name": "ipython",
    "version": 3
   },
   "file_extension": ".py",
   "mimetype": "text/x-python",
   "name": "python",
   "nbconvert_exporter": "python",
   "pygments_lexer": "ipython3",
   "version": "3.11.5"
  }
 },
 "nbformat": 4,
 "nbformat_minor": 5
}
